{
 "cells": [
  {
   "cell_type": "markdown",
   "metadata": {},
   "source": [
    "### 1. 导入相关库"
   ]
  },
  {
   "cell_type": "code",
   "execution_count": 1,
   "metadata": {},
   "outputs": [
    {
     "name": "stderr",
     "output_type": "stream",
     "text": [
      "2025-06-15 09:56:10.564741: I tensorflow/core/util/port.cc:153] oneDNN custom operations are on. You may see slightly different numerical results due to floating-point round-off errors from different computation orders. To turn them off, set the environment variable `TF_ENABLE_ONEDNN_OPTS=0`.\n",
      "2025-06-15 09:56:11.310686: E external/local_xla/xla/stream_executor/cuda/cuda_fft.cc:485] Unable to register cuFFT factory: Attempting to register factory for plugin cuFFT when one has already been registered\n",
      "2025-06-15 09:56:11.559976: E external/local_xla/xla/stream_executor/cuda/cuda_dnn.cc:8454] Unable to register cuDNN factory: Attempting to register factory for plugin cuDNN when one has already been registered\n",
      "2025-06-15 09:56:11.634986: E external/local_xla/xla/stream_executor/cuda/cuda_blas.cc:1452] Unable to register cuBLAS factory: Attempting to register factory for plugin cuBLAS when one has already been registered\n",
      "2025-06-15 09:56:12.115567: I tensorflow/core/platform/cpu_feature_guard.cc:210] This TensorFlow binary is optimized to use available CPU instructions in performance-critical operations.\n",
      "To enable the following instructions: AVX2 AVX512F AVX512_VNNI FMA, in other operations, rebuild TensorFlow with the appropriate compiler flags.\n",
      "2025-06-15 09:56:14.235495: W tensorflow/compiler/tf2tensorrt/utils/py_utils.cc:38] TF-TRT Warning: Could not find TensorRT\n"
     ]
    }
   ],
   "source": [
    "import os  # 导入操作系统相关功能，用于路径拼接、获取当前目录等\n",
    "import pandas as pd  # 导入pandas库，常用于表格数据处理，简写为pd\n",
    "import numpy as np  # 导入numpy库，进行科学计算，简写为np\n",
    "import tensorflow as tf  # 导入TensorFlow深度学习框架\n",
    "from tensorflow.keras.preprocessing.image import ImageDataGenerator  \n",
    "# 导入Keras的图片数据增强器\n",
    "from tensorflow.keras import layers, models, optimizers  \n",
    "# 导入Keras的网络层、模型、优化器\n",
    "import matplotlib.pyplot as plt  \n",
    "# 导入matplotlib的绘图模块，简写为plt\n",
    "import math # 用于计算ceil，确保steps_per_epoch完整"
   ]
  },
  {
   "cell_type": "markdown",
   "metadata": {},
   "source": [
    "### 2. 路径和超参数设置"
   ]
  },
  {
   "cell_type": "code",
   "execution_count": 2,
   "metadata": {},
   "outputs": [],
   "source": [
    "BASE_DIR = './'  # 定义项目的根目录为当前目录\n",
    "# 拼接出训练集csv的完整路径\n",
    "TRAIN_CSV_PATH = os.path.join(BASE_DIR, 'train.csv')  \n",
    "# 拼接出测试集csv的完整路径\n",
    "TEST_CSV_PATH = os.path.join(BASE_DIR, 'test.csv')  "
   ]
  },
  {
   "cell_type": "markdown",
   "metadata": {},
   "source": [
    "#### 2.1 图像参数"
   ]
  },
  {
   "cell_type": "code",
   "execution_count": 3,
   "metadata": {},
   "outputs": [],
   "source": [
    "# 设置图片宽度和高度为150像素\n",
    "IMAGE_WIDTH, IMAGE_HEIGHT = 150, 150  \n",
    "# 组合成一个元组，方便后续调用\n",
    "IMAGE_SIZE = (IMAGE_WIDTH, IMAGE_HEIGHT) \n",
    "# 设置图片通道数为3，代表彩色图片\n",
    "CHANNELS = 3 # RGB color images  "
   ]
  },
  {
   "cell_type": "markdown",
   "metadata": {},
   "source": [
    "#### 2.2 训练超参数并打印"
   ]
  },
  {
   "cell_type": "code",
   "execution_count": 4,
   "metadata": {},
   "outputs": [
    {
     "name": "stdout",
     "output_type": "stream",
     "text": [
      "--- Path and Hyperparameters Setup Complete ---\n",
      "Data Directory: ./\n",
      "Train CSV Path: ./train.csv\n",
      "Test CSV Path: ./test.csv\n",
      "Image Size: (150, 150), Channels: 3\n",
      "Batch Size: 32, Epochs: 30, Learning Rate: 0.001\n"
     ]
    }
   ],
   "source": [
    "BATCH_SIZE = 32  # 每批处理32张图片\n",
    "EPOCHS = 30   # 训练总轮数为30\n",
    "LEARNING_RATE = 0.001   # 优化器的学习率设为0.001\n",
    "# 打印提示信息\n",
    "print(\"--- Path and Hyperparameters Setup Complete ---\")  \n",
    "print(f\"Data Directory: {BASE_DIR}\")  # 打印数据目录\n",
    "print(f\"Train CSV Path: {TRAIN_CSV_PATH}\")  # 打印训练集csv路径\n",
    "print(f\"Test CSV Path: {TEST_CSV_PATH}\")  # 打印测试集csv路径\n",
    "print(f\"Image Size: {IMAGE_SIZE}, Channels: {CHANNELS}\")  # 打印图片大小和通道数\n",
    "# 打印批大小、轮数、学习率\n",
    "print(f\"Batch Size: {BATCH_SIZE}, Epochs: {EPOCHS}, Learning Rate: {LEARNING_RATE}\")  "
   ]
  },
  {
   "cell_type": "markdown",
   "metadata": {},
   "source": [
    "#### 2.3 加载数据，检测数据是否正确导入"
   ]
  },
  {
   "cell_type": "code",
   "execution_count": 5,
   "metadata": {},
   "outputs": [
    {
     "name": "stdout",
     "output_type": "stream",
     "text": [
      "\n",
      "--- Loading CSV Files ---\n",
      "Successfully loaded training set, number of samples: 18353\n",
      "Successfully loaded test set, number of samples: 8800\n",
      "\n",
      "Training Data Preview:\n",
      "          image             label\n",
      "0  images/0.jpg  maclura_pomifera\n",
      "1  images/1.jpg  maclura_pomifera\n",
      "2  images/2.jpg  maclura_pomifera\n",
      "3  images/3.jpg  maclura_pomifera\n",
      "4  images/4.jpg  maclura_pomifera\n",
      "\n",
      "Test Data Preview:\n",
      "              image\n",
      "0  images/18353.jpg\n",
      "1  images/18354.jpg\n",
      "2  images/18355.jpg\n",
      "3  images/18356.jpg\n",
      "4  images/18357.jpg\n"
     ]
    }
   ],
   "source": [
    "print(\"\\n--- Loading CSV Files ---\")  # 提示开始加载csv文件\n",
    "try:\n",
    "    train_df = pd.read_csv(TRAIN_CSV_PATH)  # 用pandas读取训练csv为DataFrame\n",
    "    test_df = pd.read_csv(TEST_CSV_PATH)  # 用pandas读取测试csv为DataFrame\n",
    "    # 打印训练集样本数\n",
    "    print(f\"Successfully loaded training set, number of samples: {len(train_df)}\")  \n",
    "    # 打印测试集样本数\n",
    "    print(f\"Successfully loaded test set, number of samples: {len(test_df)}\")  \n",
    "    # Print a preview of \n",
    "    # the training set to confirm 'image' and 'label' columns are correct\n",
    "    print(\"\\nTraining Data Preview:\")  # 打印训练集预览\n",
    "    print(train_df.head())  # 显示训练集前五行\n",
    "    print(\"\\nTest Data Preview:\")  # 打印测试集预览\n",
    "    print(test_df.head())  # 显示测试集前五行\n",
    "except FileNotFoundError as e:  # 如果文件没找到\n",
    "    # 输出错误信息\n",
    "    print(f\"Error: CSV file not found. Please check the path. Error message: {e}\")  \n",
    "    # 打印期望的训练集路径\n",
    "    print(f\"Expected train.csv path: {os.path.abspath(TRAIN_CSV_PATH)}\")  \n",
    "    # 打印期望的测试集路径\n",
    "    print(f\"Expected test.csv path: {os.path.abspath(TEST_CSV_PATH)}\")  \n",
    "    exit() # Exit if file not found  # 直接退出程序"
   ]
  },
  {
   "cell_type": "markdown",
   "metadata": {},
   "source": [
    "#### 2.4 图片路径拼接和数据增强"
   ]
  },
  {
   "cell_type": "code",
   "execution_count": 6,
   "metadata": {},
   "outputs": [
    {
     "name": "stdout",
     "output_type": "stream",
     "text": [
      "\n",
      "--- Setting up ImageDataGenerators for data preprocessing and augmentation ---\n",
      "\n",
      "当前工作目录 (CWD): /workspace/b24011208_聂依萍_树叶分类/classify-leaves\n",
      "\n",
      "图片完整路径预览 (train_df):\n",
      "          image                                    image_full_path\n",
      "0  images/0.jpg  /workspace/b24011208_聂依萍_树叶分类/classify-leaves/...\n",
      "1  images/1.jpg  /workspace/b24011208_聂依萍_树叶分类/classify-leaves/...\n",
      "2  images/2.jpg  /workspace/b24011208_聂依萍_树叶分类/classify-leaves/...\n",
      "3  images/3.jpg  /workspace/b24011208_聂依萍_树叶分类/classify-leaves/...\n",
      "4  images/4.jpg  /workspace/b24011208_聂依萍_树叶分类/classify-leaves/...\n"
     ]
    }
   ],
   "source": [
    "# 提示开始数据增强配置\n",
    "print(\"\\n--- Setting up ImageDataGenerators for data preprocessing and augmentation ---\")  \n",
    "# --- 新增代码：为图片路径创建绝对路径 ---\n",
    "# 确保在 ImageDataGenerator.flow_from_dataframe 之前完成\n",
    "# 获取当前脚本的实际工作目录\n",
    "current_working_directory = os.getcwd() \n",
    "# 打印当前工作目录\n",
    "print(f\"\\n当前工作目录 (CWD): {current_working_directory}\")  \n",
    "\n",
    "# 如果 BASE_DIR 是 './'，那么 os.path.join(current_working_directory, BASE_DIR) 实际上就是 CWD\n",
    "# 因此，图片的绝对路径应该是 os.path.join(current_working_directory, image_path_from_csv)\n",
    "train_df['image_full_path'] = train_df['image'].\n",
    "        apply(lambda x: os.path.join(current_working_directory, x))  # 训练集图片绝对路径\n",
    "test_df['image_full_path'] = test_df['image'].\n",
    "        apply(lambda x: os.path.join(current_working_directory, x))  # 测试集图片绝对路径\n",
    "\n",
    "print(\"\\n图片完整路径预览 (train_df):\")  # 打印训练集图片路径\n",
    "print(train_df[['image', 'image_full_path']].head())  # 显示前五条图片路径\n",
    "\n",
    "# Training data generator configuration: includes data augmentation and normalization\n",
    "train_datagen = ImageDataGenerator(\n",
    "    rescale=1./255,                 # 像素值缩放到0-1\n",
    "    validation_split=0.2,           # 训练集按8:2拆分，20%做验证\n",
    "    rotation_range=30,              # 随机旋转0~30度\n",
    "    width_shift_range=0.2,          # 图片宽度方向随机平移20%\n",
    "    height_shift_range=0.2,         # 图片高度方向随机平移20%\n",
    "    shear_range=0.2,                # 剪切变换强度\n",
    "    zoom_range=0.2,                 # 随机缩放范围\n",
    "    horizontal_flip=True,           # 随机水平翻转\n",
    "    fill_mode='nearest'             # 新增像素的填充值方式\n",
    ")"
   ]
  },
  {
   "cell_type": "markdown",
   "metadata": {},
   "source": [
    "### 3. 训练集生成器"
   ]
  },
  {
   "cell_type": "code",
   "execution_count": 7,
   "metadata": {},
   "outputs": [
    {
     "name": "stdout",
     "output_type": "stream",
     "text": [
      "Found 13488 validated image filenames belonging to 176 classes.\n"
     ]
    },
    {
     "name": "stderr",
     "output_type": "stream",
     "text": [
      "/root/miniforge3/lib/python3.10/site-packages/keras/src/legacy/preprocessing/image.py:920: UserWarning: Found 1493 invalid image filename(s) in x_col=\"image\". These filename(s) will be ignored.\n",
      "  warnings.warn(\n"
     ]
    }
   ],
   "source": [
    "test_datagen = ImageDataGenerator(rescale=1./255)  # 测试/验证集只做归一化\n",
    "\n",
    "# 创建训练集生成器\n",
    "# 目录：图像文件的根目录。由于 CSV 中的 “image” 列是 “images/0.jpg”,\n",
    "# 并且 “images” 文件夹位于 “BASE_DIR” 中，因此将其设置为 BASE_DIR (即 “.’”)\n",
    "train_gen = train_datagen.flow_from_dataframe(\n",
    "    dataframe=train_df,  # 输入数据表\n",
    "    directory=BASE_DIR,  # 文件根目录\n",
    "    x_col='image',  # 图片路径列\n",
    "    y_col='label',  # 标签列\n",
    "    target_size=IMAGE_SIZE,  # 图片缩放到指定大小\n",
    "    batch_size=BATCH_SIZE,  # 每批图片数量\n",
    "    class_mode='categorical',  # 多分类，标签独热编码\n",
    "    subset='training',  # 只生成训练集部分\n",
    "    shuffle=True,  # 数据顺序打乱\n",
    "    color_mode='rgb'  # 彩色图片\n",
    ") "
   ]
  },
  {
   "cell_type": "markdown",
   "metadata": {},
   "source": [
    "### 4. 验证集生成器"
   ]
  },
  {
   "cell_type": "code",
   "execution_count": 8,
   "metadata": {},
   "outputs": [
    {
     "name": "stdout",
     "output_type": "stream",
     "text": [
      "Found 3372 validated image filenames belonging to 176 classes.\n"
     ]
    },
    {
     "name": "stderr",
     "output_type": "stream",
     "text": [
      "/root/miniforge3/lib/python3.10/site-packages/keras/src/legacy/preprocessing/image.py:920: UserWarning: Found 1493 invalid image filename(s) in x_col=\"image\". These filename(s) will be ignored.\n",
      "  warnings.warn(\n"
     ]
    }
   ],
   "source": [
    "# Create validation set generator\n",
    "validation_gen = train_datagen.flow_from_dataframe(\n",
    "    dataframe=train_df,  # 输入数据表\n",
    "    directory=BASE_DIR,  # 文件根目录\n",
    "    x_col='image',  # 图片路径列\n",
    "    y_col='label',  # 标签列\n",
    "    target_size=IMAGE_SIZE,  # 图片缩放到指定大小\n",
    "    batch_size=BATCH_SIZE,  # 每批图片数量\n",
    "    class_mode='categorical',  # 多分类，标签独热编码\n",
    "    subset='validation',  # 只生成验证集部分\n",
    "    shuffle=False,  # 不打乱顺序\n",
    "    color_mode='rgb'  # 彩色图片\n",
    ")"
   ]
  },
  {
   "cell_type": "markdown",
   "metadata": {},
   "source": [
    "### 5. 测试集生成器，打印信息"
   ]
  },
  {
   "cell_type": "code",
   "execution_count": 9,
   "metadata": {},
   "outputs": [
    {
     "name": "stdout",
     "output_type": "stream",
     "text": [
      "Found 8800 validated image filenames.\n",
      "\n",
      "--- ImageDataGenerators Created Successfully ---\n",
      "Training Generator: Found 13488 images belonging to 176 classes.\n",
      "Validation Generator: Found 3372 images belonging to 176 classes.\n",
      "Test Generator: Found 8800 images.\n"
     ]
    }
   ],
   "source": [
    "# Create test set generator (for prediction, no labels)\n",
    "test_gen = test_datagen.flow_from_dataframe(\n",
    "    dataframe=test_df,  # 测试集数据表\n",
    "    directory=BASE_DIR,  # 文件根目录\n",
    "    x_col='image',  # 图片路径列\n",
    "    y_col=None,  # 无标签\n",
    "    target_size=IMAGE_SIZE,  # 缩放图片\n",
    "    batch_size=BATCH_SIZE,  # 每批图片数量\n",
    "    class_mode=None,  # 无标签模式\n",
    "    shuffle=False,  # 顺序不打乱\n",
    "    color_mode='rgb'  # 彩色图片\n",
    ")\n",
    "\n",
    "print(\"\\n--- ImageDataGenerators Created Successfully ---\")  # 打印提示\n",
    "# Print the number of images and classes found by the generators, crucial for checking data loading\n",
    "print(f\"Training Generator: Found {train_gen.samples} \n",
    "        images belonging to {len(train_gen.class_indices)} classes.\")  # 训练集图片和类别数\n",
    "print(f\"Validation Generator: Found {validation_gen.samples} \n",
    "        images belonging to {len(validation_gen.class_indices)} classes.\")  # 验证集图片和类别数\n",
    "print(f\"Test Generator: Found {test_gen.samples} images.\")  # 测试集图片数"
   ]
  },
  {
   "cell_type": "markdown",
   "metadata": {},
   "source": [
    "### 6. 类别数量检测"
   ]
  },
  {
   "cell_type": "code",
   "execution_count": 10,
   "metadata": {},
   "outputs": [
    {
     "name": "stdout",
     "output_type": "stream",
     "text": [
      "Number of classes for model output layer: 176\n"
     ]
    }
   ],
   "source": [
    "# 检查是否成功找到图像和类\n",
    "# 检查训练集图片或类别数是否为0\n",
    "if train_gen.samples == 0 or len(train_gen.class_indices) == 0:  \n",
    "    print(\"Error: Training set generator found no images or classes. \n",
    "            Please check BASE_DIR and image paths in CSV.\")  # 打印错误\n",
    "    exit()  # 退出程序\n",
    "\n",
    "num_classes = len(train_gen.class_indices)  # 统计类别数\n",
    "print(f\"Number of classes for model output layer: {num_classes}\")  # 打印类别数"
   ]
  },
  {
   "cell_type": "markdown",
   "metadata": {},
   "source": [
    "#### 6.1 类别索引映射"
   ]
  },
  {
   "cell_type": "code",
   "execution_count": 11,
   "metadata": {},
   "outputs": [],
   "source": [
    "# 获取从 class name 到 index 的映射 (用于后续的映射预测结果)\n",
    "# train_gen.class_indices 是一个字典\n",
    "# 例如 {‘class_name_A’: 0,‘class_name_B’: 1,...}\n",
    "# 我们需要一个从 index 到 class name 的映射来预测结果\n",
    "# 索引到类别名的反向映射表\n",
    "idx_to_label = dict((v,k) for k,v in train_gen.class_indices.items())  "
   ]
  },
  {
   "cell_type": "markdown",
   "metadata": {},
   "source": [
    "### 7. 构建CNN模型"
   ]
  },
  {
   "cell_type": "code",
   "execution_count": 12,
   "metadata": {},
   "outputs": [
    {
     "name": "stdout",
     "output_type": "stream",
     "text": [
      "\n",
      "--- Building CNN Model ---\n"
     ]
    },
    {
     "name": "stderr",
     "output_type": "stream",
     "text": [
      "/root/miniforge3/lib/python3.10/site-packages/keras/src/layers/convolutional/base_conv.py:113: UserWarning: Do not pass an `input_shape`/`input_dim` argument to a layer. When using Sequential models, prefer using an `Input(shape)` object as the first layer in the model instead.\n",
      "  super().__init__(activity_regularizer=activity_regularizer, **kwargs)\n",
      "WARNING: All log messages before absl::InitializeLog() is called are written to STDERR\n",
      "I0000 00:00:1749981379.273649   11944 cuda_executor.cc:1015] successful NUMA node read from SysFS had negative value (-1), but there must be at least one NUMA node, so returning NUMA node zero. See more at https://github.com/torvalds/linux/blob/v6.0/Documentation/ABI/testing/sysfs-bus-pci#L344-L355\n",
      "2025-06-15 09:56:19.946862: W tensorflow/core/common_runtime/gpu/gpu_device.cc:2343] Cannot dlopen some GPU libraries. Please make sure the missing libraries mentioned above are installed properly if you would like to use GPU. Follow the guide at https://www.tensorflow.org/install/gpu for how to download and setup the required libraries for your platform.\n",
      "Skipping registering GPU devices...\n"
     ]
    }
   ],
   "source": [
    "print(\"\\n--- Building CNN Model ---\")  # 打印提示\n",
    "model = models.Sequential([  # 初始化顺序模型\n",
    "    # 第一组卷积层和池化层\n",
    "    # # 卷积层，32个3x3卷积核，激活函数relu，指定输入尺寸\n",
    "    layers.Conv2D(32, (3, 3), activation='relu', input_shape=(IMAGE_WIDTH, IMAGE_HEIGHT, CHANNELS)),  \n",
    "    layers.MaxPooling2D(2, 2),  # 最大池化，2x2\n",
    "\n",
    "    # 第二组卷积层和池化层\n",
    "    layers.Conv2D(64, (3, 3), activation='relu'),  # 卷积层，64个3x3卷积核\n",
    "    layers.MaxPooling2D(2, 2),  # 最大池化，2x2\n",
    "\n",
    "    # 第三组卷积层和池化层\n",
    "    layers.Conv2D(128, (3, 3), activation='relu'),  # 卷积层，128个3x3卷积核\n",
    "    layers.MaxPooling2D(2, 2),  # 最大池化，2x2\n",
    "\n",
    "    # 第四组卷积层和池化层\n",
    "    layers.Conv2D(256, (3, 3), activation='relu'),  # 卷积层，256个3x3卷积核\n",
    "    layers.MaxPooling2D(2, 2),  # 最大池化，2x2\n",
    "\n",
    "    # 展平层，将 2D 特征图转换为 1D 向量\n",
    "    layers.Flatten(),  # 拉平成一维向量\n",
    "\n",
    "    # 全连接层\n",
    "    layers.Dense(512, activation='relu'), # 全连接层，512个神经元\n",
    "    layers.Dropout(0.5), # Dropout层，防止过拟合，随机舍弃50%神经元\n",
    "\n",
    "    # 输出层：神经元数量等于类别数量，使用 softmax 激活进行多类别分类\n",
    "    layers.Dense(num_classes, activation='softmax')  # 输出层，类别数个神经元，softmax多分类\n",
    "])"
   ]
  },
  {
   "cell_type": "markdown",
   "metadata": {},
   "source": [
    "#### 7.1 模型编译与结构打印"
   ]
  },
  {
   "cell_type": "code",
   "execution_count": 13,
   "metadata": {},
   "outputs": [
    {
     "name": "stdout",
     "output_type": "stream",
     "text": [
      "\n",
      "CNN Model Summary:\n"
     ]
    },
    {
     "data": {
      "text/html": [
       "<pre style=\"white-space:pre;overflow-x:auto;line-height:normal;font-family:Menlo,'DejaVu Sans Mono',consolas,'Courier New',monospace\"><span style=\"font-weight: bold\">Model: \"sequential\"</span>\n",
       "</pre>\n"
      ],
      "text/plain": [
       "\u001b[1mModel: \"sequential\"\u001b[0m\n"
      ]
     },
     "metadata": {},
     "output_type": "display_data"
    },
    {
     "data": {
      "text/html": [
       "<pre style=\"white-space:pre;overflow-x:auto;line-height:normal;font-family:Menlo,'DejaVu Sans Mono',consolas,'Courier New',monospace\">┏━━━━━━━━━━━━━━━━━━━━━━━━━━━━━━━━━┳━━━━━━━━━━━━━━━━━━━━━━━━┳━━━━━━━━━━━━━━━┓\n",
       "┃<span style=\"font-weight: bold\"> Layer (type)                    </span>┃<span style=\"font-weight: bold\"> Output Shape           </span>┃<span style=\"font-weight: bold\">       Param # </span>┃\n",
       "┡━━━━━━━━━━━━━━━━━━━━━━━━━━━━━━━━━╇━━━━━━━━━━━━━━━━━━━━━━━━╇━━━━━━━━━━━━━━━┩\n",
       "│ conv2d (<span style=\"color: #0087ff; text-decoration-color: #0087ff\">Conv2D</span>)                 │ (<span style=\"color: #00d7ff; text-decoration-color: #00d7ff\">None</span>, <span style=\"color: #00af00; text-decoration-color: #00af00\">148</span>, <span style=\"color: #00af00; text-decoration-color: #00af00\">148</span>, <span style=\"color: #00af00; text-decoration-color: #00af00\">32</span>)   │           <span style=\"color: #00af00; text-decoration-color: #00af00\">896</span> │\n",
       "├─────────────────────────────────┼────────────────────────┼───────────────┤\n",
       "│ max_pooling2d (<span style=\"color: #0087ff; text-decoration-color: #0087ff\">MaxPooling2D</span>)    │ (<span style=\"color: #00d7ff; text-decoration-color: #00d7ff\">None</span>, <span style=\"color: #00af00; text-decoration-color: #00af00\">74</span>, <span style=\"color: #00af00; text-decoration-color: #00af00\">74</span>, <span style=\"color: #00af00; text-decoration-color: #00af00\">32</span>)     │             <span style=\"color: #00af00; text-decoration-color: #00af00\">0</span> │\n",
       "├─────────────────────────────────┼────────────────────────┼───────────────┤\n",
       "│ conv2d_1 (<span style=\"color: #0087ff; text-decoration-color: #0087ff\">Conv2D</span>)               │ (<span style=\"color: #00d7ff; text-decoration-color: #00d7ff\">None</span>, <span style=\"color: #00af00; text-decoration-color: #00af00\">72</span>, <span style=\"color: #00af00; text-decoration-color: #00af00\">72</span>, <span style=\"color: #00af00; text-decoration-color: #00af00\">64</span>)     │        <span style=\"color: #00af00; text-decoration-color: #00af00\">18,496</span> │\n",
       "├─────────────────────────────────┼────────────────────────┼───────────────┤\n",
       "│ max_pooling2d_1 (<span style=\"color: #0087ff; text-decoration-color: #0087ff\">MaxPooling2D</span>)  │ (<span style=\"color: #00d7ff; text-decoration-color: #00d7ff\">None</span>, <span style=\"color: #00af00; text-decoration-color: #00af00\">36</span>, <span style=\"color: #00af00; text-decoration-color: #00af00\">36</span>, <span style=\"color: #00af00; text-decoration-color: #00af00\">64</span>)     │             <span style=\"color: #00af00; text-decoration-color: #00af00\">0</span> │\n",
       "├─────────────────────────────────┼────────────────────────┼───────────────┤\n",
       "│ conv2d_2 (<span style=\"color: #0087ff; text-decoration-color: #0087ff\">Conv2D</span>)               │ (<span style=\"color: #00d7ff; text-decoration-color: #00d7ff\">None</span>, <span style=\"color: #00af00; text-decoration-color: #00af00\">34</span>, <span style=\"color: #00af00; text-decoration-color: #00af00\">34</span>, <span style=\"color: #00af00; text-decoration-color: #00af00\">128</span>)    │        <span style=\"color: #00af00; text-decoration-color: #00af00\">73,856</span> │\n",
       "├─────────────────────────────────┼────────────────────────┼───────────────┤\n",
       "│ max_pooling2d_2 (<span style=\"color: #0087ff; text-decoration-color: #0087ff\">MaxPooling2D</span>)  │ (<span style=\"color: #00d7ff; text-decoration-color: #00d7ff\">None</span>, <span style=\"color: #00af00; text-decoration-color: #00af00\">17</span>, <span style=\"color: #00af00; text-decoration-color: #00af00\">17</span>, <span style=\"color: #00af00; text-decoration-color: #00af00\">128</span>)    │             <span style=\"color: #00af00; text-decoration-color: #00af00\">0</span> │\n",
       "├─────────────────────────────────┼────────────────────────┼───────────────┤\n",
       "│ conv2d_3 (<span style=\"color: #0087ff; text-decoration-color: #0087ff\">Conv2D</span>)               │ (<span style=\"color: #00d7ff; text-decoration-color: #00d7ff\">None</span>, <span style=\"color: #00af00; text-decoration-color: #00af00\">15</span>, <span style=\"color: #00af00; text-decoration-color: #00af00\">15</span>, <span style=\"color: #00af00; text-decoration-color: #00af00\">256</span>)    │       <span style=\"color: #00af00; text-decoration-color: #00af00\">295,168</span> │\n",
       "├─────────────────────────────────┼────────────────────────┼───────────────┤\n",
       "│ max_pooling2d_3 (<span style=\"color: #0087ff; text-decoration-color: #0087ff\">MaxPooling2D</span>)  │ (<span style=\"color: #00d7ff; text-decoration-color: #00d7ff\">None</span>, <span style=\"color: #00af00; text-decoration-color: #00af00\">7</span>, <span style=\"color: #00af00; text-decoration-color: #00af00\">7</span>, <span style=\"color: #00af00; text-decoration-color: #00af00\">256</span>)      │             <span style=\"color: #00af00; text-decoration-color: #00af00\">0</span> │\n",
       "├─────────────────────────────────┼────────────────────────┼───────────────┤\n",
       "│ flatten (<span style=\"color: #0087ff; text-decoration-color: #0087ff\">Flatten</span>)               │ (<span style=\"color: #00d7ff; text-decoration-color: #00d7ff\">None</span>, <span style=\"color: #00af00; text-decoration-color: #00af00\">12544</span>)          │             <span style=\"color: #00af00; text-decoration-color: #00af00\">0</span> │\n",
       "├─────────────────────────────────┼────────────────────────┼───────────────┤\n",
       "│ dense (<span style=\"color: #0087ff; text-decoration-color: #0087ff\">Dense</span>)                   │ (<span style=\"color: #00d7ff; text-decoration-color: #00d7ff\">None</span>, <span style=\"color: #00af00; text-decoration-color: #00af00\">512</span>)            │     <span style=\"color: #00af00; text-decoration-color: #00af00\">6,423,040</span> │\n",
       "├─────────────────────────────────┼────────────────────────┼───────────────┤\n",
       "│ dropout (<span style=\"color: #0087ff; text-decoration-color: #0087ff\">Dropout</span>)               │ (<span style=\"color: #00d7ff; text-decoration-color: #00d7ff\">None</span>, <span style=\"color: #00af00; text-decoration-color: #00af00\">512</span>)            │             <span style=\"color: #00af00; text-decoration-color: #00af00\">0</span> │\n",
       "├─────────────────────────────────┼────────────────────────┼───────────────┤\n",
       "│ dense_1 (<span style=\"color: #0087ff; text-decoration-color: #0087ff\">Dense</span>)                 │ (<span style=\"color: #00d7ff; text-decoration-color: #00d7ff\">None</span>, <span style=\"color: #00af00; text-decoration-color: #00af00\">176</span>)            │        <span style=\"color: #00af00; text-decoration-color: #00af00\">90,288</span> │\n",
       "└─────────────────────────────────┴────────────────────────┴───────────────┘\n",
       "</pre>\n"
      ],
      "text/plain": [
       "┏━━━━━━━━━━━━━━━━━━━━━━━━━━━━━━━━━┳━━━━━━━━━━━━━━━━━━━━━━━━┳━━━━━━━━━━━━━━━┓\n",
       "┃\u001b[1m \u001b[0m\u001b[1mLayer (type)                   \u001b[0m\u001b[1m \u001b[0m┃\u001b[1m \u001b[0m\u001b[1mOutput Shape          \u001b[0m\u001b[1m \u001b[0m┃\u001b[1m \u001b[0m\u001b[1m      Param #\u001b[0m\u001b[1m \u001b[0m┃\n",
       "┡━━━━━━━━━━━━━━━━━━━━━━━━━━━━━━━━━╇━━━━━━━━━━━━━━━━━━━━━━━━╇━━━━━━━━━━━━━━━┩\n",
       "│ conv2d (\u001b[38;5;33mConv2D\u001b[0m)                 │ (\u001b[38;5;45mNone\u001b[0m, \u001b[38;5;34m148\u001b[0m, \u001b[38;5;34m148\u001b[0m, \u001b[38;5;34m32\u001b[0m)   │           \u001b[38;5;34m896\u001b[0m │\n",
       "├─────────────────────────────────┼────────────────────────┼───────────────┤\n",
       "│ max_pooling2d (\u001b[38;5;33mMaxPooling2D\u001b[0m)    │ (\u001b[38;5;45mNone\u001b[0m, \u001b[38;5;34m74\u001b[0m, \u001b[38;5;34m74\u001b[0m, \u001b[38;5;34m32\u001b[0m)     │             \u001b[38;5;34m0\u001b[0m │\n",
       "├─────────────────────────────────┼────────────────────────┼───────────────┤\n",
       "│ conv2d_1 (\u001b[38;5;33mConv2D\u001b[0m)               │ (\u001b[38;5;45mNone\u001b[0m, \u001b[38;5;34m72\u001b[0m, \u001b[38;5;34m72\u001b[0m, \u001b[38;5;34m64\u001b[0m)     │        \u001b[38;5;34m18,496\u001b[0m │\n",
       "├─────────────────────────────────┼────────────────────────┼───────────────┤\n",
       "│ max_pooling2d_1 (\u001b[38;5;33mMaxPooling2D\u001b[0m)  │ (\u001b[38;5;45mNone\u001b[0m, \u001b[38;5;34m36\u001b[0m, \u001b[38;5;34m36\u001b[0m, \u001b[38;5;34m64\u001b[0m)     │             \u001b[38;5;34m0\u001b[0m │\n",
       "├─────────────────────────────────┼────────────────────────┼───────────────┤\n",
       "│ conv2d_2 (\u001b[38;5;33mConv2D\u001b[0m)               │ (\u001b[38;5;45mNone\u001b[0m, \u001b[38;5;34m34\u001b[0m, \u001b[38;5;34m34\u001b[0m, \u001b[38;5;34m128\u001b[0m)    │        \u001b[38;5;34m73,856\u001b[0m │\n",
       "├─────────────────────────────────┼────────────────────────┼───────────────┤\n",
       "│ max_pooling2d_2 (\u001b[38;5;33mMaxPooling2D\u001b[0m)  │ (\u001b[38;5;45mNone\u001b[0m, \u001b[38;5;34m17\u001b[0m, \u001b[38;5;34m17\u001b[0m, \u001b[38;5;34m128\u001b[0m)    │             \u001b[38;5;34m0\u001b[0m │\n",
       "├─────────────────────────────────┼────────────────────────┼───────────────┤\n",
       "│ conv2d_3 (\u001b[38;5;33mConv2D\u001b[0m)               │ (\u001b[38;5;45mNone\u001b[0m, \u001b[38;5;34m15\u001b[0m, \u001b[38;5;34m15\u001b[0m, \u001b[38;5;34m256\u001b[0m)    │       \u001b[38;5;34m295,168\u001b[0m │\n",
       "├─────────────────────────────────┼────────────────────────┼───────────────┤\n",
       "│ max_pooling2d_3 (\u001b[38;5;33mMaxPooling2D\u001b[0m)  │ (\u001b[38;5;45mNone\u001b[0m, \u001b[38;5;34m7\u001b[0m, \u001b[38;5;34m7\u001b[0m, \u001b[38;5;34m256\u001b[0m)      │             \u001b[38;5;34m0\u001b[0m │\n",
       "├─────────────────────────────────┼────────────────────────┼───────────────┤\n",
       "│ flatten (\u001b[38;5;33mFlatten\u001b[0m)               │ (\u001b[38;5;45mNone\u001b[0m, \u001b[38;5;34m12544\u001b[0m)          │             \u001b[38;5;34m0\u001b[0m │\n",
       "├─────────────────────────────────┼────────────────────────┼───────────────┤\n",
       "│ dense (\u001b[38;5;33mDense\u001b[0m)                   │ (\u001b[38;5;45mNone\u001b[0m, \u001b[38;5;34m512\u001b[0m)            │     \u001b[38;5;34m6,423,040\u001b[0m │\n",
       "├─────────────────────────────────┼────────────────────────┼───────────────┤\n",
       "│ dropout (\u001b[38;5;33mDropout\u001b[0m)               │ (\u001b[38;5;45mNone\u001b[0m, \u001b[38;5;34m512\u001b[0m)            │             \u001b[38;5;34m0\u001b[0m │\n",
       "├─────────────────────────────────┼────────────────────────┼───────────────┤\n",
       "│ dense_1 (\u001b[38;5;33mDense\u001b[0m)                 │ (\u001b[38;5;45mNone\u001b[0m, \u001b[38;5;34m176\u001b[0m)            │        \u001b[38;5;34m90,288\u001b[0m │\n",
       "└─────────────────────────────────┴────────────────────────┴───────────────┘\n"
      ]
     },
     "metadata": {},
     "output_type": "display_data"
    },
    {
     "data": {
      "text/html": [
       "<pre style=\"white-space:pre;overflow-x:auto;line-height:normal;font-family:Menlo,'DejaVu Sans Mono',consolas,'Courier New',monospace\"><span style=\"font-weight: bold\"> Total params: </span><span style=\"color: #00af00; text-decoration-color: #00af00\">6,901,744</span> (26.33 MB)\n",
       "</pre>\n"
      ],
      "text/plain": [
       "\u001b[1m Total params: \u001b[0m\u001b[38;5;34m6,901,744\u001b[0m (26.33 MB)\n"
      ]
     },
     "metadata": {},
     "output_type": "display_data"
    },
    {
     "data": {
      "text/html": [
       "<pre style=\"white-space:pre;overflow-x:auto;line-height:normal;font-family:Menlo,'DejaVu Sans Mono',consolas,'Courier New',monospace\"><span style=\"font-weight: bold\"> Trainable params: </span><span style=\"color: #00af00; text-decoration-color: #00af00\">6,901,744</span> (26.33 MB)\n",
       "</pre>\n"
      ],
      "text/plain": [
       "\u001b[1m Trainable params: \u001b[0m\u001b[38;5;34m6,901,744\u001b[0m (26.33 MB)\n"
      ]
     },
     "metadata": {},
     "output_type": "display_data"
    },
    {
     "data": {
      "text/html": [
       "<pre style=\"white-space:pre;overflow-x:auto;line-height:normal;font-family:Menlo,'DejaVu Sans Mono',consolas,'Courier New',monospace\"><span style=\"font-weight: bold\"> Non-trainable params: </span><span style=\"color: #00af00; text-decoration-color: #00af00\">0</span> (0.00 B)\n",
       "</pre>\n"
      ],
      "text/plain": [
       "\u001b[1m Non-trainable params: \u001b[0m\u001b[38;5;34m0\u001b[0m (0.00 B)\n"
      ]
     },
     "metadata": {},
     "output_type": "display_data"
    }
   ],
   "source": [
    "# 编译模型：定义优化器、损失函数和评估指标\n",
    "model.compile(optimizer=optimizers.Adam(learning_rate=LEARNING_RATE),  # 使用Adam优化器\n",
    "              loss='categorical_crossentropy', # 多分类交叉熵损失函数\n",
    "              metrics=['accuracy'])  # 评价指标为准确率\n",
    "\n",
    "print(\"\\nCNN Model Summary:\")  # 打印模型结构\n",
    "model.summary()  # 展示模型各层结构参数"
   ]
  },
  {
   "cell_type": "markdown",
   "metadata": {},
   "source": [
    "##### 表格内容说明\n",
    "Layer (type)：层的名称和类型（如Conv2D卷积层、MaxPooling2D池化层、Dense全连接层、Dropout等）。\n",
    "Output Shape：该层输出的张量形状。None表示batch size不固定，后面的数字分别代表输出的高、宽和通道数（或神经元数）。\n",
    "Param #：该层的参数个数（可训练参数数量）。\n",
    "##### 模型结构分解如下\n",
    "conv2d (Conv2D)\n",
    "\n",
    "卷积层，输出形状: (None, 148, 148, 32)\n",
    "意味着输入图片经过这层后，变成148x148大小、32个通道\n",
    "参数数量：896（代表卷积核的权重和偏置）\n",
    "max_pooling2d (MaxPooling2D)\n",
    "\n",
    "池化层，输出形状: (None, 74, 74, 32)\n",
    "池化层没有参数，只做降采样\n",
    "conv2d_1 (Conv2D)\n",
    "\n",
    "第二个卷积层，输出: (None, 72, 72, 64)\n",
    "参数数量：18,496\n",
    "max_pooling2d_1 (MaxPooling2D)\n",
    "\n",
    "第二个池化层，输出: (None, 36, 36, 64)\n",
    "无参数\n",
    "conv2d_2 (Conv2D)\n",
    "\n",
    "第三个卷积层，输出: (None, 34, 34, 128)\n",
    "参数数量：73,856\n",
    "max_pooling2d_2 (MaxPooling2D)\n",
    "\n",
    "第三个池化层，输出: (None, 17, 17, 128)\n",
    "无参数\n",
    "conv2d_3 (Conv2D)\n",
    "\n",
    "第四个卷积层，输出: (None, 15, 15, 256)\n",
    "参数数量：295,168\n",
    "max_pooling2d_3 (MaxPooling2D)\n",
    "\n",
    "第四个池化层，输出: (None, 7, 7, 256)\n",
    "无参数\n",
    "flatten (Flatten)\n",
    "\n",
    "拉平操作，把上一步输出展平成一维向量（77256=12544）\n",
    "dense (Dense)\n",
    "\n",
    "全连接层，512个神经元\n",
    "参数数量：6,423,040（非常多，因为输入有12544个特征）\n",
    "dropout (Dropout)\n",
    "\n",
    "Dropout层，用于防止过拟合，没有参数\n",
    "dense_1 (Dense)\n",
    "\n",
    "输出层，176个神经元（对应176个类别）\n",
    "参数数量：90,288"
   ]
  },
  {
   "cell_type": "markdown",
   "metadata": {},
   "source": [
    "#### 7.2 图片加载测试"
   ]
  },
  {
   "cell_type": "code",
   "execution_count": 14,
   "metadata": {},
   "outputs": [
    {
     "name": "stdout",
     "output_type": "stream",
     "text": [
      "\n",
      "--- 正在手动测试图片加载，请注意潜在的错误 ---\n",
      "图片 images/0.jpg 加载成功 (PIL.Image.open)。\n",
      "图片 images/1.jpg 加载成功 (PIL.Image.open)。\n",
      "图片 images/2.jpg 加载成功 (PIL.Image.open)。\n",
      "图片 images/3.jpg 加载成功 (PIL.Image.open)。\n",
      "图片 images/4.jpg 加载成功 (PIL.Image.open)。\n",
      "图片 images/5.jpg 加载成功 (PIL.Image.open)。\n",
      "图片 images/6.jpg 加载成功 (PIL.Image.open)。\n",
      "图片 images/7.jpg 加载成功 (PIL.Image.open)。\n",
      "图片 images/8.jpg 加载成功 (PIL.Image.open)。\n",
      "图片 images/9.jpg 加载成功 (PIL.Image.open)。\n",
      "--- 图片加载测试完成 ---\n"
     ]
    }
   ],
   "source": [
    "# --- 调试：手动加载图片以检查损坏 ---\n",
    "print(\"\\n--- 正在手动测试图片加载，请注意潜在的错误 ---\")  # 提示开始测试图片加载\n",
    "num_test_images = 10 # 尝试加载前10张图片\n",
    "for i in range(min(num_test_images, len(train_df))):  # 只测试前10张\n",
    "    image_relative_path = train_df.iloc[i]['image']  # 取图片相对路径\n",
    "    image_full_path = os.path.join(BASE_DIR, image_relative_path)  # 拼接成完整路径\n",
    "    try:\n",
    "        # 使用 Pillow 直接加载图片\n",
    "        from PIL import Image  # 导入Pillow库\n",
    "        with Image.open(image_full_path) as img:  # 打开图片\n",
    "            img.verify() # 验证图片完整性，但不会完全加载\n",
    "            print(f\"图片 {image_relative_path} 加载成功 (PIL.Image.open)。\")  # 加载成功\n",
    "    except Exception as e:\n",
    "        print(f\"错误: 图片 {image_relative_path} 加载失败或损坏。错误信息: {e}\")  # 捕捉异常并打印\n",
    "        print(f\"请检查此文件: {image_full_path}\")  # 打印出错图片路径\n",
    "        # 遇到损坏图片后停止，您可以继续迭代或退出\n",
    "        # break # 如果想在发现第一个损坏图片后停止\n",
    "print(\"--- 图片加载测试完成 ---\")  # 全部测试完毕"
   ]
  },
  {
   "cell_type": "markdown",
   "metadata": {},
   "source": [
    "### 8. 模型训练"
   ]
  },
  {
   "cell_type": "code",
   "execution_count": 15,
   "metadata": {},
   "outputs": [
    {
     "name": "stdout",
     "output_type": "stream",
     "text": [
      "\n",
      "--- Starting Model Training ---\n",
      "Training steps per Epoch: 422\n",
      "Validation steps per Epoch: 106\n"
     ]
    },
    {
     "name": "stderr",
     "output_type": "stream",
     "text": [
      "/root/miniforge3/lib/python3.10/site-packages/keras/src/trainers/data_adapters/py_dataset_adapter.py:121: UserWarning: Your `PyDataset` class should call `super().__init__(**kwargs)` in its constructor. `**kwargs` can include `workers`, `use_multiprocessing`, `max_queue_size`. Do not pass these arguments to `fit()`, as they will be ignored.\n",
      "  self._warn_if_super_not_called()\n"
     ]
    },
    {
     "name": "stdout",
     "output_type": "stream",
     "text": [
      "Epoch 1/30\n",
      "\u001b[1m422/422\u001b[0m \u001b[32m━━━━━━━━━━━━━━━━━━━━\u001b[0m\u001b[37m\u001b[0m \u001b[1m143s\u001b[0m 334ms/step - accuracy: 0.0127 - loss: 5.0899 - val_accuracy: 0.0608 - val_loss: 4.4730\n",
      "Epoch 2/30\n",
      "\u001b[1m422/422\u001b[0m \u001b[32m━━━━━━━━━━━━━━━━━━━━\u001b[0m\u001b[37m\u001b[0m \u001b[1m125s\u001b[0m 296ms/step - accuracy: 0.0381 - loss: 4.4836 - val_accuracy: 0.0949 - val_loss: 4.0306\n",
      "Epoch 3/30\n",
      "\u001b[1m422/422\u001b[0m \u001b[32m━━━━━━━━━━━━━━━━━━━━\u001b[0m\u001b[37m\u001b[0m \u001b[1m125s\u001b[0m 295ms/step - accuracy: 0.0592 - loss: 4.1518 - val_accuracy: 0.1180 - val_loss: 3.7197\n",
      "Epoch 4/30\n",
      "\u001b[1m422/422\u001b[0m \u001b[32m━━━━━━━━━━━━━━━━━━━━\u001b[0m\u001b[37m\u001b[0m \u001b[1m126s\u001b[0m 297ms/step - accuracy: 0.0836 - loss: 3.8332 - val_accuracy: 0.1512 - val_loss: 3.4493\n",
      "Epoch 5/30\n",
      "\u001b[1m422/422\u001b[0m \u001b[32m━━━━━━━━━━━━━━━━━━━━\u001b[0m\u001b[37m\u001b[0m \u001b[1m125s\u001b[0m 296ms/step - accuracy: 0.1154 - loss: 3.5695 - val_accuracy: 0.2094 - val_loss: 3.1630\n",
      "Epoch 6/30\n",
      "\u001b[1m422/422\u001b[0m \u001b[32m━━━━━━━━━━━━━━━━━━━━\u001b[0m\u001b[37m\u001b[0m \u001b[1m126s\u001b[0m 298ms/step - accuracy: 0.1468 - loss: 3.3403 - val_accuracy: 0.2266 - val_loss: 3.0078\n",
      "Epoch 7/30\n",
      "\u001b[1m422/422\u001b[0m \u001b[32m━━━━━━━━━━━━━━━━━━━━\u001b[0m\u001b[37m\u001b[0m \u001b[1m125s\u001b[0m 297ms/step - accuracy: 0.1735 - loss: 3.2169 - val_accuracy: 0.2595 - val_loss: 2.8211\n",
      "Epoch 8/30\n",
      "\u001b[1m422/422\u001b[0m \u001b[32m━━━━━━━━━━━━━━━━━━━━\u001b[0m\u001b[37m\u001b[0m \u001b[1m125s\u001b[0m 297ms/step - accuracy: 0.2035 - loss: 3.0186 - val_accuracy: 0.2865 - val_loss: 2.6783\n",
      "Epoch 9/30\n",
      "\u001b[1m422/422\u001b[0m \u001b[32m━━━━━━━━━━━━━━━━━━━━\u001b[0m\u001b[37m\u001b[0m \u001b[1m125s\u001b[0m 296ms/step - accuracy: 0.2246 - loss: 2.8791 - val_accuracy: 0.3161 - val_loss: 2.5398\n",
      "Epoch 10/30\n",
      "\u001b[1m422/422\u001b[0m \u001b[32m━━━━━━━━━━━━━━━━━━━━\u001b[0m\u001b[37m\u001b[0m \u001b[1m125s\u001b[0m 296ms/step - accuracy: 0.2567 - loss: 2.7663 - val_accuracy: 0.3550 - val_loss: 2.3818\n",
      "Epoch 11/30\n",
      "\u001b[1m422/422\u001b[0m \u001b[32m━━━━━━━━━━━━━━━━━━━━\u001b[0m\u001b[37m\u001b[0m \u001b[1m125s\u001b[0m 296ms/step - accuracy: 0.2677 - loss: 2.6580 - val_accuracy: 0.3677 - val_loss: 2.3062\n",
      "Epoch 12/30\n",
      "\u001b[1m422/422\u001b[0m \u001b[32m━━━━━━━━━━━━━━━━━━━━\u001b[0m\u001b[37m\u001b[0m \u001b[1m126s\u001b[0m 297ms/step - accuracy: 0.2894 - loss: 2.5732 - val_accuracy: 0.4024 - val_loss: 2.1752\n",
      "Epoch 13/30\n",
      "\u001b[1m422/422\u001b[0m \u001b[32m━━━━━━━━━━━━━━━━━━━━\u001b[0m\u001b[37m\u001b[0m \u001b[1m125s\u001b[0m 295ms/step - accuracy: 0.3191 - loss: 2.4557 - val_accuracy: 0.4167 - val_loss: 2.1205\n",
      "Epoch 14/30\n",
      "\u001b[1m422/422\u001b[0m \u001b[32m━━━━━━━━━━━━━━━━━━━━\u001b[0m\u001b[37m\u001b[0m \u001b[1m125s\u001b[0m 297ms/step - accuracy: 0.3310 - loss: 2.3606 - val_accuracy: 0.4110 - val_loss: 2.1035\n",
      "Epoch 15/30\n",
      "\u001b[1m422/422\u001b[0m \u001b[32m━━━━━━━━━━━━━━━━━━━━\u001b[0m\u001b[37m\u001b[0m \u001b[1m125s\u001b[0m 297ms/step - accuracy: 0.3356 - loss: 2.3056 - val_accuracy: 0.4389 - val_loss: 2.0282\n",
      "Epoch 16/30\n",
      "\u001b[1m422/422\u001b[0m \u001b[32m━━━━━━━━━━━━━━━━━━━━\u001b[0m\u001b[37m\u001b[0m \u001b[1m125s\u001b[0m 296ms/step - accuracy: 0.3699 - loss: 2.2123 - val_accuracy: 0.4644 - val_loss: 1.8794\n",
      "Epoch 17/30\n",
      "\u001b[1m422/422\u001b[0m \u001b[32m━━━━━━━━━━━━━━━━━━━━\u001b[0m\u001b[37m\u001b[0m \u001b[1m126s\u001b[0m 297ms/step - accuracy: 0.3744 - loss: 2.1752 - val_accuracy: 0.4626 - val_loss: 1.9504\n",
      "Epoch 18/30\n",
      "\u001b[1m422/422\u001b[0m \u001b[32m━━━━━━━━━━━━━━━━━━━━\u001b[0m\u001b[37m\u001b[0m \u001b[1m125s\u001b[0m 297ms/step - accuracy: 0.3961 - loss: 2.1127 - val_accuracy: 0.4715 - val_loss: 1.8085\n",
      "Epoch 19/30\n",
      "\u001b[1m422/422\u001b[0m \u001b[32m━━━━━━━━━━━━━━━━━━━━\u001b[0m\u001b[37m\u001b[0m \u001b[1m125s\u001b[0m 297ms/step - accuracy: 0.4113 - loss: 2.0428 - val_accuracy: 0.4938 - val_loss: 1.7455\n",
      "Epoch 20/30\n",
      "\u001b[1m422/422\u001b[0m \u001b[32m━━━━━━━━━━━━━━━━━━━━\u001b[0m\u001b[37m\u001b[0m \u001b[1m125s\u001b[0m 296ms/step - accuracy: 0.4025 - loss: 2.0280 - val_accuracy: 0.4872 - val_loss: 1.7758\n",
      "Epoch 21/30\n",
      "\u001b[1m422/422\u001b[0m \u001b[32m━━━━━━━━━━━━━━━━━━━━\u001b[0m\u001b[37m\u001b[0m \u001b[1m125s\u001b[0m 296ms/step - accuracy: 0.4087 - loss: 2.0174 - val_accuracy: 0.4961 - val_loss: 1.7147\n",
      "Epoch 22/30\n",
      "\u001b[1m422/422\u001b[0m \u001b[32m━━━━━━━━━━━━━━━━━━━━\u001b[0m\u001b[37m\u001b[0m \u001b[1m125s\u001b[0m 296ms/step - accuracy: 0.4266 - loss: 1.9587 - val_accuracy: 0.5279 - val_loss: 1.6196\n",
      "Epoch 23/30\n",
      "\u001b[1m422/422\u001b[0m \u001b[32m━━━━━━━━━━━━━━━━━━━━\u001b[0m\u001b[37m\u001b[0m \u001b[1m143s\u001b[0m 297ms/step - accuracy: 0.4297 - loss: 1.9160 - val_accuracy: 0.5412 - val_loss: 1.5914\n",
      "Epoch 24/30\n",
      "\u001b[1m422/422\u001b[0m \u001b[32m━━━━━━━━━━━━━━━━━━━━\u001b[0m\u001b[37m\u001b[0m \u001b[1m124s\u001b[0m 294ms/step - accuracy: 0.4396 - loss: 1.8653 - val_accuracy: 0.5190 - val_loss: 1.6243\n",
      "Epoch 25/30\n",
      "\u001b[1m422/422\u001b[0m \u001b[32m━━━━━━━━━━━━━━━━━━━━\u001b[0m\u001b[37m\u001b[0m \u001b[1m125s\u001b[0m 297ms/step - accuracy: 0.4587 - loss: 1.8119 - val_accuracy: 0.5513 - val_loss: 1.5448\n",
      "Epoch 26/30\n",
      "\u001b[1m422/422\u001b[0m \u001b[32m━━━━━━━━━━━━━━━━━━━━\u001b[0m\u001b[37m\u001b[0m \u001b[1m125s\u001b[0m 297ms/step - accuracy: 0.4622 - loss: 1.8294 - val_accuracy: 0.5439 - val_loss: 1.5448\n",
      "Epoch 27/30\n",
      "\u001b[1m422/422\u001b[0m \u001b[32m━━━━━━━━━━━━━━━━━━━━\u001b[0m\u001b[37m\u001b[0m \u001b[1m142s\u001b[0m 296ms/step - accuracy: 0.4688 - loss: 1.7715 - val_accuracy: 0.5581 - val_loss: 1.5166\n",
      "Epoch 28/30\n",
      "\u001b[1m422/422\u001b[0m \u001b[32m━━━━━━━━━━━━━━━━━━━━\u001b[0m\u001b[37m\u001b[0m \u001b[1m125s\u001b[0m 296ms/step - accuracy: 0.4818 - loss: 1.7474 - val_accuracy: 0.5356 - val_loss: 1.5719\n",
      "Epoch 29/30\n",
      "\u001b[1m422/422\u001b[0m \u001b[32m━━━━━━━━━━━━━━━━━━━━\u001b[0m\u001b[37m\u001b[0m \u001b[1m125s\u001b[0m 296ms/step - accuracy: 0.4775 - loss: 1.7288 - val_accuracy: 0.5537 - val_loss: 1.5208\n",
      "Epoch 30/30\n",
      "\u001b[1m422/422\u001b[0m \u001b[32m━━━━━━━━━━━━━━━━━━━━\u001b[0m\u001b[37m\u001b[0m \u001b[1m124s\u001b[0m 294ms/step - accuracy: 0.4948 - loss: 1.6996 - val_accuracy: 0.5629 - val_loss: 1.4634\n",
      "\n",
      "Model training completed.\n"
     ]
    }
   ],
   "source": [
    "print(\"\\n--- Starting Model Training ---\")  # 打印训练开始提示\n",
    "\n",
    "# 计算每个轮次的训练和验证步骤\n",
    "# math.ceil 确保即使是不完整的最后批次也能得到处理\n",
    "steps_per_epoch = math.ceil(train_gen.samples / BATCH_SIZE)  # 训练集每轮步数，向上取整\n",
    "validation_steps = math.ceil(validation_gen.samples / BATCH_SIZE)  # 验证集每轮步数，向上取整\n",
    "\n",
    "print(f\"Training steps per Epoch: {steps_per_epoch}\")  # 打印训练步数\n",
    "print(f\"Validation steps per Epoch: {validation_steps}\")  # 打印验证步数\n",
    "\n",
    "try:   \n",
    "    history = model.fit(\n",
    "        train_gen,                        # 训练数据生成器\n",
    "        steps_per_epoch=steps_per_epoch,  # 每轮训练步数\n",
    "        epochs=EPOCHS,                    # 总轮数\n",
    "        validation_data=validation_gen,   # 验证数据生成器\n",
    "        validation_steps=validation_steps # 每轮验证步数\n",
    "    )\n",
    "    print(\"\\nModel training completed.\")  # 训练完成\n",
    "except Exception as e:\n",
    "    print(f\"Error during model training: {e}\")  # 训练出错\n",
    "    print(\"Please check if your resources (RAM/GPU VRAM) are sufficient\n",
    "            , or try reducing BATCH_SIZE.\")  # 资源不足提示\n",
    "    exit()  # 退出"
   ]
  },
  {
   "cell_type": "markdown",
   "metadata": {},
   "source": [
    "### 9. 训练过程可视化"
   ]
  },
  {
   "cell_type": "code",
   "execution_count": 16,
   "metadata": {},
   "outputs": [
    {
     "name": "stdout",
     "output_type": "stream",
     "text": [
      "\n",
      "--- Visualizing Training Progress ---\n"
     ]
    },
    {
     "data": {
      "image/png": "[encoded data removed]",
      "text/plain": [
       "<Figure size 1200x500 with 2 Axes>"
      ]
     },
     "metadata": {},
     "output_type": "display_data"
    }
   ],
   "source": [
    "print(\"\\n--- Visualizing Training Progress ---\")  # 打印可视化提示\n",
    "# 训练和验证的准确率曲线\n",
    "plt.figure(figsize=(12, 5))  # 创建12x5的画布\n",
    "plt.subplot(1, 2, 1)  # 第1个子图\n",
    "plt.plot(history.history['accuracy'], label='Training Accuracy')  # 绘制训练准确率\n",
    "if 'val_accuracy' in history.history: # Ensure validation accuracy exists\n",
    "    plt.plot(history.history['val_accuracy'], label='Validation Accuracy')  # 绘制验证准确率\n",
    "plt.title('Accuracy Change During Training')  # 标题\n",
    "plt.xlabel('Epoch')  # 横坐标\n",
    "plt.ylabel('Accuracy')  # 纵坐标\n",
    "plt.legend()  # 图例\n",
    "plt.grid(True)  # 网格\n",
    "\n",
    "# 损失变化曲线\n",
    "plt.subplot(1, 2, 2)  # 第2个子图\n",
    "plt.plot(history.history['loss'], label='Training Loss')  # 绘制训练损失\n",
    "if 'val_loss' in history.history: # Ensure validation loss exists\n",
    "    plt.plot(history.history['val_loss'], label='Validation Loss')  # 绘制验证损失\n",
    "plt.title('Loss Change During Training')  # 标题\n",
    "plt.xlabel('Epoch')  # 横坐标\n",
    "plt.ylabel('Loss')  # 纵坐标\n",
    "plt.legend()  # 图例\n",
    "plt.grid(True)  # 网格\n",
    "plt.show()  # 显示图像"
   ]
  },
  {
   "cell_type": "markdown",
   "metadata": {},
   "source": [
    "### 10. 模型预测"
   ]
  },
  {
   "cell_type": "code",
   "execution_count": 17,
   "metadata": {},
   "outputs": [
    {
     "name": "stdout",
     "output_type": "stream",
     "text": [
      "\n",
      "--- Performing Predictions on Test Set ---\n",
      "\u001b[1m275/275\u001b[0m \u001b[32m━━━━━━━━━━━━━━━━━━━━\u001b[0m\u001b[37m\u001b[0m \u001b[1m20s\u001b[0m 74ms/step\n",
      "\n",
      "Prediction completed.\n"
     ]
    }
   ],
   "source": [
    "print(\"\\n--- Performing Predictions on Test Set ---\")  # 打印预测提示\n",
    "\n",
    "# Calculate test steps\n",
    "test_steps = math.ceil(test_gen.samples / BATCH_SIZE)  # 测试集总步数，向上取整\n",
    "\n",
    "try:\n",
    "    # Perform prediction\n",
    "    predictions = model.predict(test_gen, steps=test_steps, verbose=1)  # 预测所有测试图片\n",
    "    # 使用训练好的模型对测试数据生成器中的图像进行预测，确保覆盖所有测似样本\n",
    "    #获取每个样本的预测类别索引（概率最高的那个）\n",
    "    predicted_class_indices = np.argmax(predictions, axis=1)  # 取概率最高的类别索引\n",
    "\n",
    "    # 将预测的索引映射回原始类别名称\n",
    "    predicted_labels = [idx_to_label[idx] for idx in predicted_class_indices]  # 转换为类别名\n",
    "\n",
    "    print(\"\\nPrediction completed.\")  # 完成提示\n",
    "\n",
    "except Exception as e:\n",
    "    print(f\"Error during prediction: {e}\")  # 打印错误\n",
    "    exit()  # 退出"
   ]
  },
  {
   "cell_type": "markdown",
   "metadata": {},
   "source": [
    "### 11. 生成提交文件"
   ]
  },
  {
   "cell_type": "code",
   "execution_count": 18,
   "metadata": {},
   "outputs": [
    {
     "name": "stdout",
     "output_type": "stream",
     "text": [
      "\n",
      "--- Generating Kaggle Submission File ---\n",
      "Submission file saved to: ./submission.csv\n",
      "All steps completed! Good luck in the competition!\n"
     ]
    }
   ],
   "source": [
    "\n",
    "print(\"\\n--- Generating Kaggle Submission File ---\")\n",
    "# 创建一个DataFrame，包含图像文件名和预测标签\n",
    "submission_df = pd.DataFrame({'image': test_df['image'], 'label': predicted_labels})\n",
    "# 定义提交文件的保存路径\n",
    "submission_csv_path = os.path.join(BASE_DIR, 'submission.csv') # 保存到项目根目录\n",
    "# 将DataFrame保存为CSV文件，不包含索引\n",
    "submission_df.to_csv(submission_csv_path, index=False)\n",
    "\n",
    "print(f\"Submission file saved to: {submission_csv_path}\")\n",
    "print(\"All steps completed! Good luck in the competition!\")"
   ]
  },
  {
   "cell_type": "markdown",
   "metadata": {},
   "source": [
    "#### 代码解释:\n",
    "\n",
    "##### pd.DataFrame({'image': test_df['image'], 'label': predicted_labels}): 创建一个新的Pandas DataFrame，包含测试集图像的文件名和对应的预测标签。\n",
    "##### submission_csv_path = os.path.join(BASE_DIR, 'submission.csv'): 定义提交文件的保存路径，通常是项目根目录下的submission.csv。\n",
    "##### submission_df.to_csv(submission_csv_path, index=False): 将DataFrame保存为CSV文件。index=False表示不写入DataFrame的索引列。"
   ]
  }
 ],
 "metadata": {
  "language_info": {
   "name": "python"
  }
 },
 "nbformat": 4,
 "nbformat_minor": 2
}
