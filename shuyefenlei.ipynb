{
 "cells": [
  {
   "cell_type": "code",
   "execution_count": 1,
   "metadata": {},
   "outputs": [
    {
     "name": "stderr",
     "output_type": "stream",
     "text": [
      "2025-06-12 12:33:33.914515: I tensorflow/core/util/port.cc:153] oneDNN custom operations are on. You may see slightly different numerical results due to floating-point round-off errors from different computation orders. To turn them off, set the environment variable `TF_ENABLE_ONEDNN_OPTS=0`.\n",
      "2025-06-12 12:33:34.714354: E external/local_xla/xla/stream_executor/cuda/cuda_fft.cc:485] Unable to register cuFFT factory: Attempting to register factory for plugin cuFFT when one has already been registered\n",
      "2025-06-12 12:33:35.021964: E external/local_xla/xla/stream_executor/cuda/cuda_dnn.cc:8454] Unable to register cuDNN factory: Attempting to register factory for plugin cuDNN when one has already been registered\n",
      "2025-06-12 12:33:35.105298: E external/local_xla/xla/stream_executor/cuda/cuda_blas.cc:1452] Unable to register cuBLAS factory: Attempting to register factory for plugin cuBLAS when one has already been registered\n",
      "2025-06-12 12:33:35.706190: I tensorflow/core/platform/cpu_feature_guard.cc:210] This TensorFlow binary is optimized to use available CPU instructions in performance-critical operations.\n",
      "To enable the following instructions: AVX2 AVX512F AVX512_VNNI FMA, in other operations, rebuild TensorFlow with the appropriate compiler flags.\n",
      "2025-06-12 12:33:38.041172: W tensorflow/compiler/tf2tensorrt/utils/py_utils.cc:38] TF-TRT Warning: Could not find TensorRT\n"
     ]
    }
   ],
   "source": [
    "import os\n",
    "import pandas as pd\n",
    "import numpy as np\n",
    "import tensorflow as tf\n",
    "from tensorflow.keras.preprocessing.image import ImageDataGenerator\n",
    "from tensorflow.keras import layers, models, optimizers\n",
    "import matplotlib.pyplot as plt\n",
    "import math # 用于计算 ceil，确保 steps_per_epoch 完整"
   ]
  },
  {
   "cell_type": "code",
   "execution_count": 2,
   "metadata": {},
   "outputs": [],
   "source": [
    "# --- 1. Path Settings and Hyperparameters Definition ---\n",
    "# Based on your file structure, your Jupyter Notebook (or this script) is inside the 'classify-leaves' folder.\n",
    "# The 'images/', 'train.csv', and 'test.csv' are also inside 'classify-leaves'.\n",
    "# Therefore, the base directory is the current directory '.'\n",
    "BASE_DIR = './'\n",
    "TRAIN_CSV_PATH = os.path.join(BASE_DIR, 'train.csv')\n",
    "TEST_CSV_PATH = os.path.join(BASE_DIR, 'test.csv')"
   ]
  },
  {
   "cell_type": "code",
   "execution_count": 3,
   "metadata": {},
   "outputs": [],
   "source": [
    "# Uniform image dimensions (must match model input dimensions)\n",
    "IMAGE_WIDTH, IMAGE_HEIGHT = 150, 150\n",
    "IMAGE_SIZE = (IMAGE_WIDTH, IMAGE_HEIGHT)\n",
    "CHANNELS = 3 # RGB color images"
   ]
  },
  {
   "cell_type": "code",
   "execution_count": 4,
   "metadata": {},
   "outputs": [
    {
     "name": "stdout",
     "output_type": "stream",
     "text": [
      "--- Path and Hyperparameters Setup Complete ---\n",
      "Data Directory: ./\n",
      "Train CSV Path: ./train.csv\n",
      "Test CSV Path: ./test.csv\n",
      "Image Size: (150, 150), Channels: 3\n",
      "Batch Size: 32, Epochs: 30, Learning Rate: 0.001\n"
     ]
    }
   ],
   "source": [
    "# Training hyperparameters\n",
    "BATCH_SIZE = 32\n",
    "EPOCHS = 30 # Can be adjusted as needed, start with a reasonable number\n",
    "LEARNING_RATE = 0.001 # Learning rate, default for Adam optimizer\n",
    "\n",
    "print(\"--- Path and Hyperparameters Setup Complete ---\")\n",
    "print(f\"Data Directory: {BASE_DIR}\")\n",
    "print(f\"Train CSV Path: {TRAIN_CSV_PATH}\")\n",
    "print(f\"Test CSV Path: {TEST_CSV_PATH}\")\n",
    "print(f\"Image Size: {IMAGE_SIZE}, Channels: {CHANNELS}\")\n",
    "print(f\"Batch Size: {BATCH_SIZE}, Epochs: {EPOCHS}, Learning Rate: {LEARNING_RATE}\")"
   ]
  },
  {
   "cell_type": "code",
   "execution_count": 5,
   "metadata": {},
   "outputs": [
    {
     "name": "stdout",
     "output_type": "stream",
     "text": [
      "\n",
      "--- Loading CSV Files ---\n",
      "Successfully loaded training set, number of samples: 18353\n",
      "Successfully loaded test set, number of samples: 8800\n",
      "\n",
      "Training Data Preview:\n",
      "          image             label\n",
      "0  images/0.jpg  maclura_pomifera\n",
      "1  images/1.jpg  maclura_pomifera\n",
      "2  images/2.jpg  maclura_pomifera\n",
      "3  images/3.jpg  maclura_pomifera\n",
      "4  images/4.jpg  maclura_pomifera\n",
      "\n",
      "Test Data Preview:\n",
      "              image\n",
      "0  images/18353.jpg\n",
      "1  images/18354.jpg\n",
      "2  images/18355.jpg\n",
      "3  images/18356.jpg\n",
      "4  images/18357.jpg\n"
     ]
    }
   ],
   "source": [
    "# --- 2. Load Training and Test Data CSV Files ---\n",
    "print(\"\\n--- Loading CSV Files ---\")\n",
    "try:\n",
    "    train_df = pd.read_csv(TRAIN_CSV_PATH)\n",
    "    test_df = pd.read_csv(TEST_CSV_PATH)\n",
    "    print(f\"Successfully loaded training set, number of samples: {len(train_df)}\")\n",
    "    print(f\"Successfully loaded test set, number of samples: {len(test_df)}\")\n",
    "    # Print a preview of the training set to confirm 'image' and 'label' columns are correct\n",
    "    print(\"\\nTraining Data Preview:\")\n",
    "    print(train_df.head())\n",
    "    print(\"\\nTest Data Preview:\")\n",
    "    print(test_df.head())\n",
    "except FileNotFoundError as e:\n",
    "    print(f\"Error: CSV file not found. Please check the path. Error message: {e}\")\n",
    "    print(f\"Expected train.csv path: {os.path.abspath(TRAIN_CSV_PATH)}\")\n",
    "    print(f\"Expected test.csv path: {os.path.abspath(TEST_CSV_PATH)}\")\n",
    "    exit() # Exit if file not found"
   ]
  },
  {
   "cell_type": "code",
   "execution_count": 6,
   "metadata": {},
   "outputs": [
    {
     "name": "stdout",
     "output_type": "stream",
     "text": [
      "\n",
      "--- Setting up ImageDataGenerators for data preprocessing and augmentation ---\n",
      "\n",
      "当前工作目录 (CWD): /workspace/b24011208_聂依萍_树叶分类/classify-leaves\n",
      "\n",
      "图片完整路径预览 (train_df):\n",
      "          image                                    image_full_path\n",
      "0  images/0.jpg  /workspace/b24011208_聂依萍_树叶分类/classify-leaves/...\n",
      "1  images/1.jpg  /workspace/b24011208_聂依萍_树叶分类/classify-leaves/...\n",
      "2  images/2.jpg  /workspace/b24011208_聂依萍_树叶分类/classify-leaves/...\n",
      "3  images/3.jpg  /workspace/b24011208_聂依萍_树叶分类/classify-leaves/...\n",
      "4  images/4.jpg  /workspace/b24011208_聂依萍_树叶分类/classify-leaves/...\n"
     ]
    }
   ],
   "source": [
    "# --- 3. Image Preprocessing and Data Augmentation (using ImageDataGenerator) ---\n",
    "print(\"\\n--- Setting up ImageDataGenerators for data preprocessing and augmentation ---\")\n",
    "# --- 新增代码：为图片路径创建绝对路径 ---\n",
    "# 确保在 ImageDataGenerator.flow_from_dataframe 之前完成\n",
    "current_working_directory = os.getcwd() # 获取当前脚本的实际工作目录\n",
    "print(f\"\\n当前工作目录 (CWD): {current_working_directory}\")\n",
    "\n",
    "# 如果 BASE_DIR 是 './'，那么 os.path.join(current_working_directory, BASE_DIR) 实际上就是 CWD\n",
    "# 因此，图片的绝对路径应该是 os.path.join(current_working_directory, image_path_from_csv)\n",
    "train_df['image_full_path'] = train_df['image'].apply(lambda x: os.path.join(current_working_directory, x))\n",
    "test_df['image_full_path'] = test_df['image'].apply(lambda x: os.path.join(current_working_directory, x))\n",
    "\n",
    "print(\"\\n图片完整路径预览 (train_df):\")\n",
    "print(train_df[['image', 'image_full_path']].head())\n",
    "\n",
    "# Training data generator configuration: includes data augmentation and normalization\n",
    "train_datagen = ImageDataGenerator(\n",
    "    rescale=1./255,                 # Scale pixel values to 0-1 range\n",
    "    validation_split=0.2,           # Split 20% from training set for validation\n",
    "    rotation_range=30,              # Random rotation angle (0-30 degrees)\n",
    "    width_shift_range=0.2,          # Random horizontal shift (20% of total width)\n",
    "    height_shift_range=0.2,         # Random vertical shift (20% of total height)\n",
    "    shear_range=0.2,                # Shear intensity\n",
    "    zoom_range=0.2,                 # Random zoom range\n",
    "    horizontal_flip=True,           # Random horizontal flip\n",
    "    fill_mode='nearest'             # Method for filling newly created pixels\n",
    ")"
   ]
  },
  {
   "cell_type": "code",
   "execution_count": 7,
   "metadata": {},
   "outputs": [
    {
     "name": "stdout",
     "output_type": "stream",
     "text": [
      "Found 13488 validated image filenames belonging to 176 classes.\n"
     ]
    },
    {
     "name": "stderr",
     "output_type": "stream",
     "text": [
      "/root/miniforge3/lib/python3.10/site-packages/keras/src/legacy/preprocessing/image.py:920: UserWarning: Found 1493 invalid image filename(s) in x_col=\"image\". These filename(s) will be ignored.\n",
      "  warnings.warn(\n"
     ]
    }
   ],
   "source": [
    "# Test/Validation data generator configuration: only normalization (no augmentation, preserves original data features)\n",
    "# Note: Can reuse train_datagen's rescale, but defined separately for clarity\n",
    "test_datagen = ImageDataGenerator(rescale=1./255)\n",
    "\n",
    "# Create training set generator\n",
    "# directory: Root directory of image files. Since the 'image' column in CSV is 'images/0.jpg',\n",
    "# and the 'images' folder is inside 'BASE_DIR', this is set to BASE_DIR (i.e., '.')\n",
    "train_gen = train_datagen.flow_from_dataframe(\n",
    "    dataframe=train_df,\n",
    "    directory=BASE_DIR,               # Image root directory\n",
    "    x_col='image',                    # Column name in DataFrame containing image paths\n",
    "    y_col='label',                    # Column name in DataFrame containing labels\n",
    "    target_size=IMAGE_SIZE,           # Dimensions images will be resized to\n",
    "    batch_size=BATCH_SIZE,            # Number of images per batch\n",
    "    class_mode='categorical',         # Label mode: for multi-class classification, outputs one-hot encoded labels\n",
    "    subset='training',                # Specify as training subset\n",
    "    shuffle=True,                     # Shuffle data during training\n",
    "    color_mode='rgb'                  # Ensure RGB color mode, matches model input\n",
    ")"
   ]
  },
  {
   "cell_type": "code",
   "execution_count": 8,
   "metadata": {},
   "outputs": [
    {
     "name": "stdout",
     "output_type": "stream",
     "text": [
      "Found 3372 validated image filenames belonging to 176 classes.\n"
     ]
    },
    {
     "name": "stderr",
     "output_type": "stream",
     "text": [
      "/root/miniforge3/lib/python3.10/site-packages/keras/src/legacy/preprocessing/image.py:920: UserWarning: Found 1493 invalid image filename(s) in x_col=\"image\". These filename(s) will be ignored.\n",
      "  warnings.warn(\n"
     ]
    }
   ],
   "source": [
    "# Create validation set generator\n",
    "validation_gen = train_datagen.flow_from_dataframe(\n",
    "    dataframe=train_df,\n",
    "    directory=BASE_DIR,\n",
    "    x_col='image',\n",
    "    y_col='label',\n",
    "    target_size=IMAGE_SIZE,\n",
    "    batch_size=BATCH_SIZE,\n",
    "    class_mode='categorical',\n",
    "    subset='validation',              # Specify as validation subset\n",
    "    shuffle=False,                    # Validation set typically not shuffled for consistency\n",
    "    color_mode='rgb'\n",
    ")"
   ]
  },
  {
   "cell_type": "code",
   "execution_count": 9,
   "metadata": {},
   "outputs": [
    {
     "name": "stdout",
     "output_type": "stream",
     "text": [
      "Found 8800 validated image filenames.\n",
      "\n",
      "--- ImageDataGenerators Created Successfully ---\n",
      "Training Generator: Found 13488 images belonging to 176 classes.\n",
      "Validation Generator: Found 3372 images belonging to 176 classes.\n",
      "Test Generator: Found 8800 images.\n"
     ]
    }
   ],
   "source": [
    "# Create test set generator (for prediction, no labels)\n",
    "test_gen = test_datagen.flow_from_dataframe(\n",
    "    dataframe=test_df,\n",
    "    directory=BASE_DIR,\n",
    "    x_col='image',\n",
    "    y_col=None,                       # Test set has no labels\n",
    "    target_size=IMAGE_SIZE,\n",
    "    batch_size=BATCH_SIZE,\n",
    "    class_mode=None,                  # No labels needed\n",
    "    shuffle=False,                    # Do not shuffle data during prediction\n",
    "    color_mode='rgb'\n",
    ")\n",
    "\n",
    "print(\"\\n--- ImageDataGenerators Created Successfully ---\")\n",
    "# Print the number of images and classes found by the generators, crucial for checking data loading\n",
    "print(f\"Training Generator: Found {train_gen.samples} images belonging to {len(train_gen.class_indices)} classes.\")\n",
    "print(f\"Validation Generator: Found {validation_gen.samples} images belonging to {len(validation_gen.class_indices)} classes.\")\n",
    "print(f\"Test Generator: Found {test_gen.samples} images.\")"
   ]
  },
  {
   "cell_type": "code",
   "execution_count": 10,
   "metadata": {},
   "outputs": [
    {
     "name": "stdout",
     "output_type": "stream",
     "text": [
      "Number of classes for model output layer: 176\n"
     ]
    }
   ],
   "source": [
    "# Check if images and classes were found successfully\n",
    "if train_gen.samples == 0 or len(train_gen.class_indices) == 0:\n",
    "    print(\"Error: Training set generator found no images or classes. Please check BASE_DIR and image paths in CSV.\")\n",
    "    exit()\n",
    "\n",
    "# Get the number of classes (from the training set generator, this is the most reliable way)\n",
    "num_classes = len(train_gen.class_indices) # Changed to len(train_gen.class_indices)\n",
    "print(f\"Number of classes for model output layer: {num_classes}\")"
   ]
  },
  {
   "cell_type": "code",
   "execution_count": 11,
   "metadata": {},
   "outputs": [],
   "source": [
    "# Get the mapping from class names to indices (for later mapping prediction results)\n",
    "# train_gen.class_indices is a dictionary, e.g., {'class_name_A': 0, 'class_name_B': 1, ...}\n",
    "# We need a mapping from index to class name for prediction results\n",
    "idx_to_label = dict((v,k) for k,v in train_gen.class_indices.items())"
   ]
  },
  {
   "cell_type": "code",
   "execution_count": 12,
   "metadata": {},
   "outputs": [
    {
     "name": "stdout",
     "output_type": "stream",
     "text": [
      "\n",
      "--- Building CNN Model ---\n"
     ]
    },
    {
     "name": "stderr",
     "output_type": "stream",
     "text": [
      "/root/miniforge3/lib/python3.10/site-packages/keras/src/layers/convolutional/base_conv.py:113: UserWarning: Do not pass an `input_shape`/`input_dim` argument to a layer. When using Sequential models, prefer using an `Input(shape)` object as the first layer in the model instead.\n",
      "  super().__init__(activity_regularizer=activity_regularizer, **kwargs)\n",
      "WARNING: All log messages before absl::InitializeLog() is called are written to STDERR\n",
      "I0000 00:00:1749731623.371707    1898 cuda_executor.cc:1015] successful NUMA node read from SysFS had negative value (-1), but there must be at least one NUMA node, so returning NUMA node zero. See more at https://github.com/torvalds/linux/blob/v6.0/Documentation/ABI/testing/sysfs-bus-pci#L344-L355\n",
      "2025-06-12 12:33:44.205145: W tensorflow/core/common_runtime/gpu/gpu_device.cc:2343] Cannot dlopen some GPU libraries. Please make sure the missing libraries mentioned above are installed properly if you would like to use GPU. Follow the guide at https://www.tensorflow.org/install/gpu for how to download and setup the required libraries for your platform.\n",
      "Skipping registering GPU devices...\n"
     ]
    }
   ],
   "source": [
    "# --- 4. Build Convolutional Neural Network (CNN) Model ---\n",
    "print(\"\\n--- Building CNN Model ---\")\n",
    "model = models.Sequential([\n",
    "    # First set of convolutional and pooling layers\n",
    "    layers.Conv2D(32, (3, 3), activation='relu', input_shape=(IMAGE_WIDTH, IMAGE_HEIGHT, CHANNELS)),\n",
    "    layers.MaxPooling2D(2, 2),\n",
    "\n",
    "    # Second set of convolutional and pooling layers\n",
    "    layers.Conv2D(64, (3, 3), activation='relu'),\n",
    "    layers.MaxPooling2D(2, 2),\n",
    "\n",
    "    # Third set of convolutional and pooling layers\n",
    "    layers.Conv2D(128, (3, 3), activation='relu'),\n",
    "    layers.MaxPooling2D(2, 2),\n",
    "\n",
    "    # Fourth set of convolutional and pooling layers (optional, can increase model depth)\n",
    "    layers.Conv2D(256, (3, 3), activation='relu'),\n",
    "    layers.MaxPooling2D(2, 2),\n",
    "\n",
    "    # Flatten layer, converts 2D feature maps to 1D vector\n",
    "    layers.Flatten(),\n",
    "\n",
    "    # Fully connected layer (Dense layer)\n",
    "    layers.Dense(512, activation='relu'), # More neurons can learn more complex features\n",
    "    layers.Dropout(0.5), # Dropout layer, prevents overfitting by randomly dropping 50% of neurons\n",
    "\n",
    "    # Output layer: number of neurons equals the number of classes, uses softmax activation for multi-class classification\n",
    "    layers.Dense(num_classes, activation='softmax')\n",
    "])"
   ]
  },
  {
   "cell_type": "code",
   "execution_count": 13,
   "metadata": {},
   "outputs": [
    {
     "name": "stdout",
     "output_type": "stream",
     "text": [
      "\n",
      "CNN Model Summary:\n"
     ]
    },
    {
     "data": {
      "text/html": [
       "<pre style=\"white-space:pre;overflow-x:auto;line-height:normal;font-family:Menlo,'DejaVu Sans Mono',consolas,'Courier New',monospace\"><span style=\"font-weight: bold\">Model: \"sequential\"</span>\n",
       "</pre>\n"
      ],
      "text/plain": [
       "\u001b[1mModel: \"sequential\"\u001b[0m\n"
      ]
     },
     "metadata": {},
     "output_type": "display_data"
    },
    {
     "data": {
      "text/html": [
       "<pre style=\"white-space:pre;overflow-x:auto;line-height:normal;font-family:Menlo,'DejaVu Sans Mono',consolas,'Courier New',monospace\">┏━━━━━━━━━━━━━━━━━━━━━━━━━━━━━━━━━┳━━━━━━━━━━━━━━━━━━━━━━━━┳━━━━━━━━━━━━━━━┓\n",
       "┃<span style=\"font-weight: bold\"> Layer (type)                    </span>┃<span style=\"font-weight: bold\"> Output Shape           </span>┃<span style=\"font-weight: bold\">       Param # </span>┃\n",
       "┡━━━━━━━━━━━━━━━━━━━━━━━━━━━━━━━━━╇━━━━━━━━━━━━━━━━━━━━━━━━╇━━━━━━━━━━━━━━━┩\n",
       "│ conv2d (<span style=\"color: #0087ff; text-decoration-color: #0087ff\">Conv2D</span>)                 │ (<span style=\"color: #00d7ff; text-decoration-color: #00d7ff\">None</span>, <span style=\"color: #00af00; text-decoration-color: #00af00\">148</span>, <span style=\"color: #00af00; text-decoration-color: #00af00\">148</span>, <span style=\"color: #00af00; text-decoration-color: #00af00\">32</span>)   │           <span style=\"color: #00af00; text-decoration-color: #00af00\">896</span> │\n",
       "├─────────────────────────────────┼────────────────────────┼───────────────┤\n",
       "│ max_pooling2d (<span style=\"color: #0087ff; text-decoration-color: #0087ff\">MaxPooling2D</span>)    │ (<span style=\"color: #00d7ff; text-decoration-color: #00d7ff\">None</span>, <span style=\"color: #00af00; text-decoration-color: #00af00\">74</span>, <span style=\"color: #00af00; text-decoration-color: #00af00\">74</span>, <span style=\"color: #00af00; text-decoration-color: #00af00\">32</span>)     │             <span style=\"color: #00af00; text-decoration-color: #00af00\">0</span> │\n",
       "├─────────────────────────────────┼────────────────────────┼───────────────┤\n",
       "│ conv2d_1 (<span style=\"color: #0087ff; text-decoration-color: #0087ff\">Conv2D</span>)               │ (<span style=\"color: #00d7ff; text-decoration-color: #00d7ff\">None</span>, <span style=\"color: #00af00; text-decoration-color: #00af00\">72</span>, <span style=\"color: #00af00; text-decoration-color: #00af00\">72</span>, <span style=\"color: #00af00; text-decoration-color: #00af00\">64</span>)     │        <span style=\"color: #00af00; text-decoration-color: #00af00\">18,496</span> │\n",
       "├─────────────────────────────────┼────────────────────────┼───────────────┤\n",
       "│ max_pooling2d_1 (<span style=\"color: #0087ff; text-decoration-color: #0087ff\">MaxPooling2D</span>)  │ (<span style=\"color: #00d7ff; text-decoration-color: #00d7ff\">None</span>, <span style=\"color: #00af00; text-decoration-color: #00af00\">36</span>, <span style=\"color: #00af00; text-decoration-color: #00af00\">36</span>, <span style=\"color: #00af00; text-decoration-color: #00af00\">64</span>)     │             <span style=\"color: #00af00; text-decoration-color: #00af00\">0</span> │\n",
       "├─────────────────────────────────┼────────────────────────┼───────────────┤\n",
       "│ conv2d_2 (<span style=\"color: #0087ff; text-decoration-color: #0087ff\">Conv2D</span>)               │ (<span style=\"color: #00d7ff; text-decoration-color: #00d7ff\">None</span>, <span style=\"color: #00af00; text-decoration-color: #00af00\">34</span>, <span style=\"color: #00af00; text-decoration-color: #00af00\">34</span>, <span style=\"color: #00af00; text-decoration-color: #00af00\">128</span>)    │        <span style=\"color: #00af00; text-decoration-color: #00af00\">73,856</span> │\n",
       "├─────────────────────────────────┼────────────────────────┼───────────────┤\n",
       "│ max_pooling2d_2 (<span style=\"color: #0087ff; text-decoration-color: #0087ff\">MaxPooling2D</span>)  │ (<span style=\"color: #00d7ff; text-decoration-color: #00d7ff\">None</span>, <span style=\"color: #00af00; text-decoration-color: #00af00\">17</span>, <span style=\"color: #00af00; text-decoration-color: #00af00\">17</span>, <span style=\"color: #00af00; text-decoration-color: #00af00\">128</span>)    │             <span style=\"color: #00af00; text-decoration-color: #00af00\">0</span> │\n",
       "├─────────────────────────────────┼────────────────────────┼───────────────┤\n",
       "│ conv2d_3 (<span style=\"color: #0087ff; text-decoration-color: #0087ff\">Conv2D</span>)               │ (<span style=\"color: #00d7ff; text-decoration-color: #00d7ff\">None</span>, <span style=\"color: #00af00; text-decoration-color: #00af00\">15</span>, <span style=\"color: #00af00; text-decoration-color: #00af00\">15</span>, <span style=\"color: #00af00; text-decoration-color: #00af00\">256</span>)    │       <span style=\"color: #00af00; text-decoration-color: #00af00\">295,168</span> │\n",
       "├─────────────────────────────────┼────────────────────────┼───────────────┤\n",
       "│ max_pooling2d_3 (<span style=\"color: #0087ff; text-decoration-color: #0087ff\">MaxPooling2D</span>)  │ (<span style=\"color: #00d7ff; text-decoration-color: #00d7ff\">None</span>, <span style=\"color: #00af00; text-decoration-color: #00af00\">7</span>, <span style=\"color: #00af00; text-decoration-color: #00af00\">7</span>, <span style=\"color: #00af00; text-decoration-color: #00af00\">256</span>)      │             <span style=\"color: #00af00; text-decoration-color: #00af00\">0</span> │\n",
       "├─────────────────────────────────┼────────────────────────┼───────────────┤\n",
       "│ flatten (<span style=\"color: #0087ff; text-decoration-color: #0087ff\">Flatten</span>)               │ (<span style=\"color: #00d7ff; text-decoration-color: #00d7ff\">None</span>, <span style=\"color: #00af00; text-decoration-color: #00af00\">12544</span>)          │             <span style=\"color: #00af00; text-decoration-color: #00af00\">0</span> │\n",
       "├─────────────────────────────────┼────────────────────────┼───────────────┤\n",
       "│ dense (<span style=\"color: #0087ff; text-decoration-color: #0087ff\">Dense</span>)                   │ (<span style=\"color: #00d7ff; text-decoration-color: #00d7ff\">None</span>, <span style=\"color: #00af00; text-decoration-color: #00af00\">512</span>)            │     <span style=\"color: #00af00; text-decoration-color: #00af00\">6,423,040</span> │\n",
       "├─────────────────────────────────┼────────────────────────┼───────────────┤\n",
       "│ dropout (<span style=\"color: #0087ff; text-decoration-color: #0087ff\">Dropout</span>)               │ (<span style=\"color: #00d7ff; text-decoration-color: #00d7ff\">None</span>, <span style=\"color: #00af00; text-decoration-color: #00af00\">512</span>)            │             <span style=\"color: #00af00; text-decoration-color: #00af00\">0</span> │\n",
       "├─────────────────────────────────┼────────────────────────┼───────────────┤\n",
       "│ dense_1 (<span style=\"color: #0087ff; text-decoration-color: #0087ff\">Dense</span>)                 │ (<span style=\"color: #00d7ff; text-decoration-color: #00d7ff\">None</span>, <span style=\"color: #00af00; text-decoration-color: #00af00\">176</span>)            │        <span style=\"color: #00af00; text-decoration-color: #00af00\">90,288</span> │\n",
       "└─────────────────────────────────┴────────────────────────┴───────────────┘\n",
       "</pre>\n"
      ],
      "text/plain": [
       "┏━━━━━━━━━━━━━━━━━━━━━━━━━━━━━━━━━┳━━━━━━━━━━━━━━━━━━━━━━━━┳━━━━━━━━━━━━━━━┓\n",
       "┃\u001b[1m \u001b[0m\u001b[1mLayer (type)                   \u001b[0m\u001b[1m \u001b[0m┃\u001b[1m \u001b[0m\u001b[1mOutput Shape          \u001b[0m\u001b[1m \u001b[0m┃\u001b[1m \u001b[0m\u001b[1m      Param #\u001b[0m\u001b[1m \u001b[0m┃\n",
       "┡━━━━━━━━━━━━━━━━━━━━━━━━━━━━━━━━━╇━━━━━━━━━━━━━━━━━━━━━━━━╇━━━━━━━━━━━━━━━┩\n",
       "│ conv2d (\u001b[38;5;33mConv2D\u001b[0m)                 │ (\u001b[38;5;45mNone\u001b[0m, \u001b[38;5;34m148\u001b[0m, \u001b[38;5;34m148\u001b[0m, \u001b[38;5;34m32\u001b[0m)   │           \u001b[38;5;34m896\u001b[0m │\n",
       "├─────────────────────────────────┼────────────────────────┼───────────────┤\n",
       "│ max_pooling2d (\u001b[38;5;33mMaxPooling2D\u001b[0m)    │ (\u001b[38;5;45mNone\u001b[0m, \u001b[38;5;34m74\u001b[0m, \u001b[38;5;34m74\u001b[0m, \u001b[38;5;34m32\u001b[0m)     │             \u001b[38;5;34m0\u001b[0m │\n",
       "├─────────────────────────────────┼────────────────────────┼───────────────┤\n",
       "│ conv2d_1 (\u001b[38;5;33mConv2D\u001b[0m)               │ (\u001b[38;5;45mNone\u001b[0m, \u001b[38;5;34m72\u001b[0m, \u001b[38;5;34m72\u001b[0m, \u001b[38;5;34m64\u001b[0m)     │        \u001b[38;5;34m18,496\u001b[0m │\n",
       "├─────────────────────────────────┼────────────────────────┼───────────────┤\n",
       "│ max_pooling2d_1 (\u001b[38;5;33mMaxPooling2D\u001b[0m)  │ (\u001b[38;5;45mNone\u001b[0m, \u001b[38;5;34m36\u001b[0m, \u001b[38;5;34m36\u001b[0m, \u001b[38;5;34m64\u001b[0m)     │             \u001b[38;5;34m0\u001b[0m │\n",
       "├─────────────────────────────────┼────────────────────────┼───────────────┤\n",
       "│ conv2d_2 (\u001b[38;5;33mConv2D\u001b[0m)               │ (\u001b[38;5;45mNone\u001b[0m, \u001b[38;5;34m34\u001b[0m, \u001b[38;5;34m34\u001b[0m, \u001b[38;5;34m128\u001b[0m)    │        \u001b[38;5;34m73,856\u001b[0m │\n",
       "├─────────────────────────────────┼────────────────────────┼───────────────┤\n",
       "│ max_pooling2d_2 (\u001b[38;5;33mMaxPooling2D\u001b[0m)  │ (\u001b[38;5;45mNone\u001b[0m, \u001b[38;5;34m17\u001b[0m, \u001b[38;5;34m17\u001b[0m, \u001b[38;5;34m128\u001b[0m)    │             \u001b[38;5;34m0\u001b[0m │\n",
       "├─────────────────────────────────┼────────────────────────┼───────────────┤\n",
       "│ conv2d_3 (\u001b[38;5;33mConv2D\u001b[0m)               │ (\u001b[38;5;45mNone\u001b[0m, \u001b[38;5;34m15\u001b[0m, \u001b[38;5;34m15\u001b[0m, \u001b[38;5;34m256\u001b[0m)    │       \u001b[38;5;34m295,168\u001b[0m │\n",
       "├─────────────────────────────────┼────────────────────────┼───────────────┤\n",
       "│ max_pooling2d_3 (\u001b[38;5;33mMaxPooling2D\u001b[0m)  │ (\u001b[38;5;45mNone\u001b[0m, \u001b[38;5;34m7\u001b[0m, \u001b[38;5;34m7\u001b[0m, \u001b[38;5;34m256\u001b[0m)      │             \u001b[38;5;34m0\u001b[0m │\n",
       "├─────────────────────────────────┼────────────────────────┼───────────────┤\n",
       "│ flatten (\u001b[38;5;33mFlatten\u001b[0m)               │ (\u001b[38;5;45mNone\u001b[0m, \u001b[38;5;34m12544\u001b[0m)          │             \u001b[38;5;34m0\u001b[0m │\n",
       "├─────────────────────────────────┼────────────────────────┼───────────────┤\n",
       "│ dense (\u001b[38;5;33mDense\u001b[0m)                   │ (\u001b[38;5;45mNone\u001b[0m, \u001b[38;5;34m512\u001b[0m)            │     \u001b[38;5;34m6,423,040\u001b[0m │\n",
       "├─────────────────────────────────┼────────────────────────┼───────────────┤\n",
       "│ dropout (\u001b[38;5;33mDropout\u001b[0m)               │ (\u001b[38;5;45mNone\u001b[0m, \u001b[38;5;34m512\u001b[0m)            │             \u001b[38;5;34m0\u001b[0m │\n",
       "├─────────────────────────────────┼────────────────────────┼───────────────┤\n",
       "│ dense_1 (\u001b[38;5;33mDense\u001b[0m)                 │ (\u001b[38;5;45mNone\u001b[0m, \u001b[38;5;34m176\u001b[0m)            │        \u001b[38;5;34m90,288\u001b[0m │\n",
       "└─────────────────────────────────┴────────────────────────┴───────────────┘\n"
      ]
     },
     "metadata": {},
     "output_type": "display_data"
    },
    {
     "data": {
      "text/html": [
       "<pre style=\"white-space:pre;overflow-x:auto;line-height:normal;font-family:Menlo,'DejaVu Sans Mono',consolas,'Courier New',monospace\"><span style=\"font-weight: bold\"> Total params: </span><span style=\"color: #00af00; text-decoration-color: #00af00\">6,901,744</span> (26.33 MB)\n",
       "</pre>\n"
      ],
      "text/plain": [
       "\u001b[1m Total params: \u001b[0m\u001b[38;5;34m6,901,744\u001b[0m (26.33 MB)\n"
      ]
     },
     "metadata": {},
     "output_type": "display_data"
    },
    {
     "data": {
      "text/html": [
       "<pre style=\"white-space:pre;overflow-x:auto;line-height:normal;font-family:Menlo,'DejaVu Sans Mono',consolas,'Courier New',monospace\"><span style=\"font-weight: bold\"> Trainable params: </span><span style=\"color: #00af00; text-decoration-color: #00af00\">6,901,744</span> (26.33 MB)\n",
       "</pre>\n"
      ],
      "text/plain": [
       "\u001b[1m Trainable params: \u001b[0m\u001b[38;5;34m6,901,744\u001b[0m (26.33 MB)\n"
      ]
     },
     "metadata": {},
     "output_type": "display_data"
    },
    {
     "data": {
      "text/html": [
       "<pre style=\"white-space:pre;overflow-x:auto;line-height:normal;font-family:Menlo,'DejaVu Sans Mono',consolas,'Courier New',monospace\"><span style=\"font-weight: bold\"> Non-trainable params: </span><span style=\"color: #00af00; text-decoration-color: #00af00\">0</span> (0.00 B)\n",
       "</pre>\n"
      ],
      "text/plain": [
       "\u001b[1m Non-trainable params: \u001b[0m\u001b[38;5;34m0\u001b[0m (0.00 B)\n"
      ]
     },
     "metadata": {},
     "output_type": "display_data"
    }
   ],
   "source": [
    "# Compile the model: define optimizer, loss function, and evaluation metrics\n",
    "model.compile(optimizer=optimizers.Adam(learning_rate=LEARNING_RATE),\n",
    "              loss='categorical_crossentropy', # Suitable for one-hot encoded classification problems\n",
    "              metrics=['accuracy'])\n",
    "\n",
    "print(\"\\nCNN Model Summary:\")\n",
    "model.summary()"
   ]
  },
  {
   "cell_type": "code",
   "execution_count": 14,
   "metadata": {},
   "outputs": [
    {
     "name": "stdout",
     "output_type": "stream",
     "text": [
      "\n",
      "--- 正在手动测试图片加载，请注意潜在的错误 ---\n",
      "图片 images/0.jpg 加载成功 (PIL.Image.open)。\n",
      "图片 images/1.jpg 加载成功 (PIL.Image.open)。\n",
      "图片 images/2.jpg 加载成功 (PIL.Image.open)。\n",
      "图片 images/3.jpg 加载成功 (PIL.Image.open)。\n",
      "图片 images/4.jpg 加载成功 (PIL.Image.open)。\n",
      "图片 images/5.jpg 加载成功 (PIL.Image.open)。\n",
      "图片 images/6.jpg 加载成功 (PIL.Image.open)。\n",
      "图片 images/7.jpg 加载成功 (PIL.Image.open)。\n",
      "图片 images/8.jpg 加载成功 (PIL.Image.open)。\n",
      "图片 images/9.jpg 加载成功 (PIL.Image.open)。\n",
      "--- 图片加载测试完成 ---\n"
     ]
    }
   ],
   "source": [
    "# --- 调试：手动加载图片以检查损坏 ---\n",
    "print(\"\\n--- 正在手动测试图片加载，请注意潜在的错误 ---\")\n",
    "num_test_images = 10 # 尝试加载前10张图片\n",
    "for i in range(min(num_test_images, len(train_df))):\n",
    "    image_relative_path = train_df.iloc[i]['image']\n",
    "    image_full_path = os.path.join(BASE_DIR, image_relative_path)\n",
    "    try:\n",
    "        # 使用 Pillow 直接加载图片\n",
    "        from PIL import Image\n",
    "        with Image.open(image_full_path) as img:\n",
    "            img.verify() # 验证图片完整性，但不会完全加载\n",
    "            print(f\"图片 {image_relative_path} 加载成功 (PIL.Image.open)。\")\n",
    "    except Exception as e:\n",
    "        print(f\"错误: 图片 {image_relative_path} 加载失败或损坏。错误信息: {e}\")\n",
    "        print(f\"请检查此文件: {image_full_path}\")\n",
    "        # 遇到损坏图片后停止，您可以继续迭代或退出\n",
    "        # break # 如果想在发现第一个损坏图片后停止\n",
    "print(\"--- 图片加载测试完成 ---\")"
   ]
  },
  {
   "cell_type": "code",
   "execution_count": 15,
   "metadata": {},
   "outputs": [
    {
     "name": "stdout",
     "output_type": "stream",
     "text": [
      "\n",
      "--- Starting Model Training ---\n",
      "Training steps per Epoch: 422\n",
      "Validation steps per Epoch: 106\n"
     ]
    },
    {
     "name": "stderr",
     "output_type": "stream",
     "text": [
      "/root/miniforge3/lib/python3.10/site-packages/keras/src/trainers/data_adapters/py_dataset_adapter.py:121: UserWarning: Your `PyDataset` class should call `super().__init__(**kwargs)` in its constructor. `**kwargs` can include `workers`, `use_multiprocessing`, `max_queue_size`. Do not pass these arguments to `fit()`, as they will be ignored.\n",
      "  self._warn_if_super_not_called()\n"
     ]
    },
    {
     "name": "stdout",
     "output_type": "stream",
     "text": [
      "Epoch 1/30\n",
      "\u001b[1m422/422\u001b[0m \u001b[32m━━━━━━━━━━━━━━━━━━━━\u001b[0m\u001b[37m\u001b[0m \u001b[1m127s\u001b[0m 296ms/step - accuracy: 0.0123 - loss: 5.1083 - val_accuracy: 0.0507 - val_loss: 4.4931\n",
      "Epoch 2/30\n",
      "\u001b[1m422/422\u001b[0m \u001b[32m━━━━━━━━━━━━━━━━━━━━\u001b[0m\u001b[37m\u001b[0m \u001b[1m124s\u001b[0m 294ms/step - accuracy: 0.0359 - loss: 4.4884 - val_accuracy: 0.0970 - val_loss: 3.9536\n",
      "Epoch 3/30\n",
      "\u001b[1m422/422\u001b[0m \u001b[32m━━━━━━━━━━━━━━━━━━━━\u001b[0m\u001b[37m\u001b[0m \u001b[1m124s\u001b[0m 293ms/step - accuracy: 0.0712 - loss: 4.0450 - val_accuracy: 0.1483 - val_loss: 3.5708\n",
      "Epoch 4/30\n",
      "\u001b[1m422/422\u001b[0m \u001b[32m━━━━━━━━━━━━━━━━━━━━\u001b[0m\u001b[37m\u001b[0m \u001b[1m125s\u001b[0m 296ms/step - accuracy: 0.0954 - loss: 3.7381 - val_accuracy: 0.1693 - val_loss: 3.2936\n",
      "Epoch 5/30\n",
      "\u001b[1m422/422\u001b[0m \u001b[32m━━━━━━━━━━━━━━━━━━━━\u001b[0m\u001b[37m\u001b[0m \u001b[1m125s\u001b[0m 296ms/step - accuracy: 0.1300 - loss: 3.5033 - val_accuracy: 0.2132 - val_loss: 3.0862\n",
      "Epoch 6/30\n",
      "\u001b[1m422/422\u001b[0m \u001b[32m━━━━━━━━━━━━━━━━━━━━\u001b[0m\u001b[37m\u001b[0m \u001b[1m125s\u001b[0m 296ms/step - accuracy: 0.1736 - loss: 3.2427 - val_accuracy: 0.2737 - val_loss: 2.7902\n",
      "Epoch 7/30\n",
      "\u001b[1m422/422\u001b[0m \u001b[32m━━━━━━━━━━━━━━━━━━━━\u001b[0m\u001b[37m\u001b[0m \u001b[1m124s\u001b[0m 295ms/step - accuracy: 0.2063 - loss: 3.0400 - val_accuracy: 0.2954 - val_loss: 2.6729\n",
      "Epoch 8/30\n",
      "\u001b[1m422/422\u001b[0m \u001b[32m━━━━━━━━━━━━━━━━━━━━\u001b[0m\u001b[37m\u001b[0m \u001b[1m125s\u001b[0m 296ms/step - accuracy: 0.2416 - loss: 2.8313 - val_accuracy: 0.3244 - val_loss: 2.5119\n",
      "Epoch 9/30\n",
      "\u001b[1m422/422\u001b[0m \u001b[32m━━━━━━━━━━━━━━━━━━━━\u001b[0m\u001b[37m\u001b[0m \u001b[1m124s\u001b[0m 294ms/step - accuracy: 0.2688 - loss: 2.6930 - val_accuracy: 0.3636 - val_loss: 2.3340\n",
      "Epoch 10/30\n",
      "\u001b[1m422/422\u001b[0m \u001b[32m━━━━━━━━━━━━━━━━━━━━\u001b[0m\u001b[37m\u001b[0m \u001b[1m125s\u001b[0m 296ms/step - accuracy: 0.2865 - loss: 2.5999 - val_accuracy: 0.3891 - val_loss: 2.2510\n",
      "Epoch 11/30\n",
      "\u001b[1m422/422\u001b[0m \u001b[32m━━━━━━━━━━━━━━━━━━━━\u001b[0m\u001b[37m\u001b[0m \u001b[1m124s\u001b[0m 294ms/step - accuracy: 0.3041 - loss: 2.4998 - val_accuracy: 0.4021 - val_loss: 2.1081\n",
      "Epoch 12/30\n",
      "\u001b[1m422/422\u001b[0m \u001b[32m━━━━━━━━━━━━━━━━━━━━\u001b[0m\u001b[37m\u001b[0m \u001b[1m125s\u001b[0m 295ms/step - accuracy: 0.3439 - loss: 2.3379 - val_accuracy: 0.4309 - val_loss: 2.0209\n",
      "Epoch 13/30\n",
      "\u001b[1m422/422\u001b[0m \u001b[32m━━━━━━━━━━━━━━━━━━━━\u001b[0m\u001b[37m\u001b[0m \u001b[1m124s\u001b[0m 294ms/step - accuracy: 0.3532 - loss: 2.2891 - val_accuracy: 0.4469 - val_loss: 1.9368\n",
      "Epoch 14/30\n",
      "\u001b[1m422/422\u001b[0m \u001b[32m━━━━━━━━━━━━━━━━━━━━\u001b[0m\u001b[37m\u001b[0m \u001b[1m125s\u001b[0m 295ms/step - accuracy: 0.3622 - loss: 2.1927 - val_accuracy: 0.4769 - val_loss: 1.8291\n",
      "Epoch 15/30\n",
      "\u001b[1m422/422\u001b[0m \u001b[32m━━━━━━━━━━━━━━━━━━━━\u001b[0m\u001b[37m\u001b[0m \u001b[1m124s\u001b[0m 295ms/step - accuracy: 0.3905 - loss: 2.0828 - val_accuracy: 0.4683 - val_loss: 1.8136\n",
      "Epoch 16/30\n",
      "\u001b[1m422/422\u001b[0m \u001b[32m━━━━━━━━━━━━━━━━━━━━\u001b[0m\u001b[37m\u001b[0m \u001b[1m124s\u001b[0m 294ms/step - accuracy: 0.4024 - loss: 2.0463 - val_accuracy: 0.5021 - val_loss: 1.7150\n",
      "Epoch 17/30\n",
      "\u001b[1m422/422\u001b[0m \u001b[32m━━━━━━━━━━━━━━━━━━━━\u001b[0m\u001b[37m\u001b[0m \u001b[1m123s\u001b[0m 292ms/step - accuracy: 0.4226 - loss: 1.9840 - val_accuracy: 0.5104 - val_loss: 1.7418\n",
      "Epoch 18/30\n",
      "\u001b[1m422/422\u001b[0m \u001b[32m━━━━━━━━━━━━━━━━━━━━\u001b[0m\u001b[37m\u001b[0m \u001b[1m123s\u001b[0m 290ms/step - accuracy: 0.4300 - loss: 1.9187 - val_accuracy: 0.5110 - val_loss: 1.6747\n",
      "Epoch 19/30\n",
      "\u001b[1m422/422\u001b[0m \u001b[32m━━━━━━━━━━━━━━━━━━━━\u001b[0m\u001b[37m\u001b[0m \u001b[1m123s\u001b[0m 290ms/step - accuracy: 0.4500 - loss: 1.8592 - val_accuracy: 0.5397 - val_loss: 1.5864\n",
      "Epoch 20/30\n",
      "\u001b[1m422/422\u001b[0m \u001b[32m━━━━━━━━━━━━━━━━━━━━\u001b[0m\u001b[37m\u001b[0m \u001b[1m123s\u001b[0m 291ms/step - accuracy: 0.4556 - loss: 1.8517 - val_accuracy: 0.5341 - val_loss: 1.5673\n",
      "Epoch 21/30\n",
      "\u001b[1m422/422\u001b[0m \u001b[32m━━━━━━━━━━━━━━━━━━━━\u001b[0m\u001b[37m\u001b[0m \u001b[1m141s\u001b[0m 290ms/step - accuracy: 0.4816 - loss: 1.7591 - val_accuracy: 0.5273 - val_loss: 1.6185\n",
      "Epoch 22/30\n",
      "\u001b[1m422/422\u001b[0m \u001b[32m━━━━━━━━━━━━━━━━━━━━\u001b[0m\u001b[37m\u001b[0m \u001b[1m122s\u001b[0m 290ms/step - accuracy: 0.4801 - loss: 1.7472 - val_accuracy: 0.5572 - val_loss: 1.5213\n",
      "Epoch 23/30\n",
      "\u001b[1m422/422\u001b[0m \u001b[32m━━━━━━━━━━━━━━━━━━━━\u001b[0m\u001b[37m\u001b[0m \u001b[1m122s\u001b[0m 290ms/step - accuracy: 0.4872 - loss: 1.7056 - val_accuracy: 0.5537 - val_loss: 1.5172\n",
      "Epoch 24/30\n",
      "\u001b[1m422/422\u001b[0m \u001b[32m━━━━━━━━━━━━━━━━━━━━\u001b[0m\u001b[37m\u001b[0m \u001b[1m123s\u001b[0m 291ms/step - accuracy: 0.4969 - loss: 1.7098 - val_accuracy: 0.5590 - val_loss: 1.5077\n",
      "Epoch 25/30\n",
      "\u001b[1m422/422\u001b[0m \u001b[32m━━━━━━━━━━━━━━━━━━━━\u001b[0m\u001b[37m\u001b[0m \u001b[1m122s\u001b[0m 289ms/step - accuracy: 0.5014 - loss: 1.6478 - val_accuracy: 0.5697 - val_loss: 1.4251\n",
      "Epoch 26/30\n",
      "\u001b[1m422/422\u001b[0m \u001b[32m━━━━━━━━━━━━━━━━━━━━\u001b[0m\u001b[37m\u001b[0m \u001b[1m123s\u001b[0m 291ms/step - accuracy: 0.5009 - loss: 1.6397 - val_accuracy: 0.5792 - val_loss: 1.3972\n",
      "Epoch 27/30\n",
      "\u001b[1m422/422\u001b[0m \u001b[32m━━━━━━━━━━━━━━━━━━━━\u001b[0m\u001b[37m\u001b[0m \u001b[1m123s\u001b[0m 291ms/step - accuracy: 0.5184 - loss: 1.5923 - val_accuracy: 0.5982 - val_loss: 1.3332\n",
      "Epoch 28/30\n",
      "\u001b[1m422/422\u001b[0m \u001b[32m━━━━━━━━━━━━━━━━━━━━\u001b[0m\u001b[37m\u001b[0m \u001b[1m123s\u001b[0m 291ms/step - accuracy: 0.5256 - loss: 1.5801 - val_accuracy: 0.5988 - val_loss: 1.3734\n",
      "Epoch 29/30\n",
      "\u001b[1m422/422\u001b[0m \u001b[32m━━━━━━━━━━━━━━━━━━━━\u001b[0m\u001b[37m\u001b[0m \u001b[1m122s\u001b[0m 290ms/step - accuracy: 0.5176 - loss: 1.5991 - val_accuracy: 0.5937 - val_loss: 1.3392\n",
      "Epoch 30/30\n",
      "\u001b[1m422/422\u001b[0m \u001b[32m━━━━━━━━━━━━━━━━━━━━\u001b[0m\u001b[37m\u001b[0m \u001b[1m123s\u001b[0m 291ms/step - accuracy: 0.5456 - loss: 1.5007 - val_accuracy: 0.6207 - val_loss: 1.2831\n",
      "\n",
      "Model training completed.\n"
     ]
    }
   ],
   "source": [
    "# --- 5. Train the Model ---\n",
    "print(\"\\n--- Starting Model Training ---\")\n",
    "\n",
    "# Calculate steps per epoch for training and validation\n",
    "# math.ceil ensures that even incomplete last batches are processed\n",
    "steps_per_epoch = math.ceil(train_gen.samples / BATCH_SIZE)\n",
    "validation_steps = math.ceil(validation_gen.samples / BATCH_SIZE)\n",
    "\n",
    "print(f\"Training steps per Epoch: {steps_per_epoch}\")\n",
    "print(f\"Validation steps per Epoch: {validation_steps}\")\n",
    "\n",
    "try:   \n",
    "    history = model.fit(\n",
    "        train_gen,                        # Training data generator\n",
    "        steps_per_epoch=steps_per_epoch,  # Number of training steps per epoch\n",
    "        epochs=EPOCHS,                    # Total number of training epochs\n",
    "        validation_data=validation_gen,   # Validation data generator\n",
    "        validation_steps=validation_steps # Number of validation steps per epoch\n",
    "    )\n",
    "    print(\"\\nModel training completed.\")\n",
    "except Exception as e:\n",
    "    print(f\"Error during model training: {e}\")\n",
    "    print(\"Please check if your resources (RAM/GPU VRAM) are sufficient, or try reducing BATCH_SIZE.\")\n",
    "    exit()"
   ]
  },
  {
   "cell_type": "code",
   "execution_count": 16,
   "metadata": {},
   "outputs": [
    {
     "name": "stdout",
     "output_type": "stream",
     "text": [
      "\n",
      "--- Visualizing Training Progress ---\n"
     ]
    },
    {
     "data": {
      "image/png": "[encoded data removed]",
      "text/plain": [
       "<Figure size 1200x500 with 2 Axes>"
      ]
     },
     "metadata": {},
     "output_type": "display_data"
    }
   ],
   "source": [
    "# --- 6. Visualize Training Progress (Optional, but recommended) ---\n",
    "print(\"\\n--- Visualizing Training Progress ---\")\n",
    "# Plot accuracy curve\n",
    "plt.figure(figsize=(12, 5))\n",
    "plt.subplot(1, 2, 1)\n",
    "plt.plot(history.history['accuracy'], label='Training Accuracy')\n",
    "if 'val_accuracy' in history.history: # Ensure validation accuracy exists\n",
    "    plt.plot(history.history['val_accuracy'], label='Validation Accuracy')\n",
    "plt.title('Accuracy Change During Training')\n",
    "plt.xlabel('Epoch')\n",
    "plt.ylabel('Accuracy')\n",
    "plt.legend()\n",
    "plt.grid(True)\n",
    "\n",
    "# Plot loss curve\n",
    "plt.subplot(1, 2, 2)\n",
    "plt.plot(history.history['loss'], label='Training Loss')\n",
    "if 'val_loss' in history.history: # Ensure validation loss exists\n",
    "    plt.plot(history.history['val_loss'], label='Validation Loss')\n",
    "plt.title('Loss Change During Training')\n",
    "plt.xlabel('Epoch')\n",
    "plt.ylabel('Loss')\n",
    "plt.legend()\n",
    "plt.grid(True)\n",
    "plt.show()"
   ]
  },
  {
   "cell_type": "code",
   "execution_count": 17,
   "metadata": {},
   "outputs": [
    {
     "name": "stdout",
     "output_type": "stream",
     "text": [
      "\n",
      "--- Performing Predictions on Test Set ---\n",
      "\u001b[1m275/275\u001b[0m \u001b[32m━━━━━━━━━━━━━━━━━━━━\u001b[0m\u001b[37m\u001b[0m \u001b[1m16s\u001b[0m 59ms/step\n",
      "\n",
      "Prediction completed.\n"
     ]
    }
   ],
   "source": [
    "# --- 7. Model Evaluation and Prediction ---\n",
    "print(\"\\n--- Performing Predictions on Test Set ---\")\n",
    "\n",
    "# Calculate test steps\n",
    "test_steps = math.ceil(test_gen.samples / BATCH_SIZE)\n",
    "\n",
    "try:\n",
    "\n",
    "    # Perform prediction\n",
    "    predictions = model.predict(test_gen, steps=test_steps, verbose=1) \n",
    "    # 使用训练好的模型对测试数据生成器中的图像进行预测，确保覆盖所有测似样本\n",
    "    #获取每个样本的预测类别索引（概率最高的那个）\n",
    "    predicted_class_indices = np.argmax(predictions, axis=1)\n",
    "\n",
    "    # 将预测的索引映射回原始类别名称\n",
    "    predicted_labels = [idx_to_label[idx] for idx in predicted_class_indices]\n",
    "\n",
    "    print(\"\\nPrediction completed.\")\n",
    "\n",
    "except Exception as e:\n",
    "    print(f\"Error during prediction: {e}\")\n",
    "    exit()"
   ]
  },
  {
   "cell_type": "code",
   "execution_count": 18,
   "metadata": {},
   "outputs": [
    {
     "name": "stdout",
     "output_type": "stream",
     "text": [
      "\n",
      "--- Generating Kaggle Submission File ---\n",
      "Submission file saved to: ./submission.csv\n",
      "All steps completed! Good luck in the competition!\n"
     ]
    }
   ],
   "source": [
    "# --- 8. Generate Kaggle Submission File ---\n",
    "print(\"\\n--- Generating Kaggle Submission File ---\")\n",
    "# 创建一个DataFrame，包含图像文件名和预测标签\n",
    "submission_df = pd.DataFrame({'image': test_df['image'], 'label': predicted_labels})\n",
    "# 定义提交文件的保存路径\n",
    "submission_csv_path = os.path.join(BASE_DIR, 'submission.csv') # 保存到项目根目录\n",
    "# 将DataFrame保存为CSV文件，不包含索引\n",
    "submission_df.to_csv(submission_csv_path, index=False)\n",
    "\n",
    "print(f\"Submission file saved to: {submission_csv_path}\")\n",
    "print(\"All steps completed! Good luck in the competition!\")"
   ]
  },
  {
   "cell_type": "markdown",
   "metadata": {},
   "source": [
    "#### 代码解释:\n",
    "\n",
    "##### pd.DataFrame({'image': test_df['image'], 'label': predicted_labels}): 创建一个新的Pandas DataFrame，包含测试集图像的文件名和对应的预测标签。\n",
    "##### submission_csv_path = os.path.join(BASE_DIR, 'submission.csv'): 定义提交文件的保存路径，通常是项目根目录下的submission.csv。\n",
    "##### submission_df.to_csv(submission_csv_path, index=False): 将DataFrame保存为CSV文件。index=False表示不写入DataFrame的索引列。"
   ]
  }
 ],
 "metadata": {
  "language_info": {
   "name": "python"
  }
 },
 "nbformat": 4,
 "nbformat_minor": 2
}
